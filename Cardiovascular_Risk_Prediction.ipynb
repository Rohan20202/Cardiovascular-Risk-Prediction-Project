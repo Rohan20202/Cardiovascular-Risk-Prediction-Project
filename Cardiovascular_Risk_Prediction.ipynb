{
  "nbformat": 4,
  "nbformat_minor": 0,
  "metadata": {
    "colab": {
      "name": "Cardiovascular Risk Prediction.ipynb",
      "provenance": [],
      "collapsed_sections": [],
      "authorship_tag": "ABX9TyOsUEeB17QD327m2jCQD5Wz",
      "include_colab_link": true
    },
    "kernelspec": {
      "name": "python3",
      "display_name": "Python 3"
    },
    "language_info": {
      "name": "python"
    }
  },
  "cells": [
    {
      "cell_type": "markdown",
      "metadata": {
        "id": "view-in-github",
        "colab_type": "text"
      },
      "source": [
        "<a href=\"https://colab.research.google.com/github/Rohan20202/Cardiovascular-Risk-Prediction-Project/blob/main/Cardiovascular_Risk_Prediction.ipynb\" target=\"_parent\"><img src=\"https://colab.research.google.com/assets/colab-badge.svg\" alt=\"Open In Colab\"/></a>"
      ]
    },
    {
      "cell_type": "markdown",
      "metadata": {
        "id": "K9ahy6Pkv94W"
      },
      "source": [
        "# **Cardiovascular Risk Prediction Project**"
      ]
    },
    {
      "cell_type": "markdown",
      "metadata": {
        "id": "hzB9zLHEv_AL"
      },
      "source": [
        "**The dataset is from an ongoing cardiovascular study on residents of the town of Framingham,\n",
        "Massachusetts. The classification goal is to predict whether the patient has a 10-year risk of\n",
        "future coronary heart disease (CHD). The dataset provides the patients’ information. It includes\n",
        "over 4,000 records and 15 attributes.**"
      ]
    },
    {
      "cell_type": "markdown",
      "metadata": {
        "id": "OChiCfDJK8gg"
      },
      "source": [
        "# **Data Description :**"
      ]
    },
    {
      "cell_type": "markdown",
      "metadata": {
        "id": "XDKKY7VAv9_0"
      },
      "source": [
        "**Variables :**\n",
        "\n",
        "**Each attribute is a potential risk factor. There are both demographic, behavioral, and medical risk\n",
        "factors.**"
      ]
    },
    {
      "cell_type": "markdown",
      "metadata": {
        "id": "LBCnmKOXwftT"
      },
      "source": [
        "**Demographic:**\n",
        "\n",
        "• Sex: male or female(\"M\" or \"F\")\n",
        "\n",
        "• Age: Age of the patient;(Continuous - Although the recorded ages have been truncated to\n",
        "whole numbers, the concept of age is continuous)\n",
        "\n",
        "**Behavioral :**\n",
        "\n",
        "• is_smoking: whether or not the patient is a current smoker (\"YES\" or \"NO\")\n",
        "\n",
        "• Cigs Per Day: the number of cigarettes that the person smoked on average in one day.(can be considered continuous as one can have any number of cigarettes, even half a cigarette.) \n",
        "\n",
        "**Medical( history)**\n",
        "\n",
        "\n",
        "• BP Meds: whether or not the patient was on blood pressure medication (Nominal)\n",
        "\n",
        "• Prevalent Stroke: whether or not the patient had previously had a stroke (Nominal)\n",
        "\n",
        "• Prevalent Hyp: whether or not the patient was hypertensive (Nominal)\n",
        "\n",
        "• Diabetes: whether or not the patient had diabetes (Nominal)\n",
        "\n",
        "**Medical(current)**\n",
        "\n",
        "• Tot Chol: total cholesterol level (Continuous)\n",
        "\n",
        "• Sys BP: systolic blood pressure (Continuous)\n",
        "\n",
        "• Dia BP: diastolic blood pressure (Continuous)\n",
        "\n",
        "• BMI: Body Mass Index (Continuous)\n",
        "\n",
        "• Heart Rate: heart rate (Continuous - In medical research, variables such as heart rate though in fact discrete, yet are considered continuous because of large number of possible values.)\n",
        "\n",
        "• Glucose: glucose level (Continuous)\n",
        "\n",
        "**•Predict variable (desired target)**\n",
        "\n",
        "10-year risk of coronary heart disease CHD(binary: “1”, means “Yes”, “0” means “No”) -\n",
        "Dv "
      ]
    },
    {
      "cell_type": "markdown",
      "metadata": {
        "id": "stCwubCqwxyj"
      },
      "source": [
        "## **Connecting the drive**"
      ]
    },
    {
      "cell_type": "code",
      "metadata": {
        "colab": {
          "base_uri": "https://localhost:8080/"
        },
        "id": "nEK5XKDXyOjF",
        "outputId": "976b9004-6025-4db5-d1bf-8e5088c3087a"
      },
      "source": [
        "#mounting the drive\n",
        "from google.colab import drive\n",
        "drive.mount('/content/drive')"
      ],
      "execution_count": null,
      "outputs": [
        {
          "output_type": "stream",
          "name": "stdout",
          "text": [
            "Drive already mounted at /content/drive; to attempt to forcibly remount, call drive.mount(\"/content/drive\", force_remount=True).\n"
          ]
        }
      ]
    },
    {
      "cell_type": "markdown",
      "metadata": {
        "id": "Ld8ubEEfyTUg"
      },
      "source": [
        "**Importing Libraries**"
      ]
    },
    {
      "cell_type": "code",
      "metadata": {
        "id": "vxl9zAOeyQhr"
      },
      "source": [
        "#loading the libraries\n",
        "import pandas as pd                 #Extensively used to load and wrangle with the dataset.\n",
        "import numpy as np                  #For some math operations in predictions\n",
        "import matplotlib.pyplot as plt     #Used for visualization.\n",
        "import seaborn as sns               #Used for visualization.\n",
        "import missingno as mno             #install  pip install missingno\n",
        "import warnings                     #For filtering and ignoring the warnings.\n",
        "warnings.filterwarnings('ignore')\n",
        "from statsmodels.stats.outliers_influence import variance_inflation_factor        #For Multicolinearity"
      ],
      "execution_count": null,
      "outputs": []
    },
    {
      "cell_type": "markdown",
      "metadata": {
        "id": "_iTfts-JydqB"
      },
      "source": [
        "**Loading the dataset**"
      ]
    },
    {
      "cell_type": "code",
      "metadata": {
        "id": "t-T-z_-RySy5"
      },
      "source": [
        "#loading the given dataset\n",
        "data = pd.read_csv('/content/drive/MyDrive/Caridovascular Risk prediction/data_cardiovascular_risk.csv')"
      ],
      "execution_count": null,
      "outputs": []
    },
    {
      "cell_type": "code",
      "metadata": {
        "colab": {
          "base_uri": "https://localhost:8080/",
          "height": 250
        },
        "id": "vxE_iQyVy2bP",
        "outputId": "f3053565-b73b-4b96-f355-395a35ca5966"
      },
      "source": [
        "#first 5 rows of data\n",
        "data.head()"
      ],
      "execution_count": null,
      "outputs": [
        {
          "output_type": "execute_result",
          "data": {
            "text/plain": [
              "   id  age  education sex is_smoking  cigsPerDay  BPMeds  prevalentStroke  \\\n",
              "0   0   64        2.0   F        YES         3.0     0.0                0   \n",
              "1   1   36        4.0   M         NO         0.0     0.0                0   \n",
              "2   2   46        1.0   F        YES        10.0     0.0                0   \n",
              "3   3   50        1.0   M        YES        20.0     0.0                0   \n",
              "4   4   64        1.0   F        YES        30.0     0.0                0   \n",
              "\n",
              "   prevalentHyp  diabetes  totChol  sysBP  diaBP    BMI  heartRate  glucose  \\\n",
              "0             0         0    221.0  148.0   85.0    NaN       90.0     80.0   \n",
              "1             1         0    212.0  168.0   98.0  29.77       72.0     75.0   \n",
              "2             0         0    250.0  116.0   71.0  20.35       88.0     94.0   \n",
              "3             1         0    233.0  158.0   88.0  28.26       68.0     94.0   \n",
              "4             0         0    241.0  136.5   85.0  26.42       70.0     77.0   \n",
              "\n",
              "   TenYearCHD  \n",
              "0           1  \n",
              "1           0  \n",
              "2           0  \n",
              "3           1  \n",
              "4           0  "
            ],
            "text/html": [
              "\n",
              "  <div id=\"df-63af3e8e-63a1-4d95-a870-8d3406715e61\">\n",
              "    <div class=\"colab-df-container\">\n",
              "      <div>\n",
              "<style scoped>\n",
              "    .dataframe tbody tr th:only-of-type {\n",
              "        vertical-align: middle;\n",
              "    }\n",
              "\n",
              "    .dataframe tbody tr th {\n",
              "        vertical-align: top;\n",
              "    }\n",
              "\n",
              "    .dataframe thead th {\n",
              "        text-align: right;\n",
              "    }\n",
              "</style>\n",
              "<table border=\"1\" class=\"dataframe\">\n",
              "  <thead>\n",
              "    <tr style=\"text-align: right;\">\n",
              "      <th></th>\n",
              "      <th>id</th>\n",
              "      <th>age</th>\n",
              "      <th>education</th>\n",
              "      <th>sex</th>\n",
              "      <th>is_smoking</th>\n",
              "      <th>cigsPerDay</th>\n",
              "      <th>BPMeds</th>\n",
              "      <th>prevalentStroke</th>\n",
              "      <th>prevalentHyp</th>\n",
              "      <th>diabetes</th>\n",
              "      <th>totChol</th>\n",
              "      <th>sysBP</th>\n",
              "      <th>diaBP</th>\n",
              "      <th>BMI</th>\n",
              "      <th>heartRate</th>\n",
              "      <th>glucose</th>\n",
              "      <th>TenYearCHD</th>\n",
              "    </tr>\n",
              "  </thead>\n",
              "  <tbody>\n",
              "    <tr>\n",
              "      <th>0</th>\n",
              "      <td>0</td>\n",
              "      <td>64</td>\n",
              "      <td>2.0</td>\n",
              "      <td>F</td>\n",
              "      <td>YES</td>\n",
              "      <td>3.0</td>\n",
              "      <td>0.0</td>\n",
              "      <td>0</td>\n",
              "      <td>0</td>\n",
              "      <td>0</td>\n",
              "      <td>221.0</td>\n",
              "      <td>148.0</td>\n",
              "      <td>85.0</td>\n",
              "      <td>NaN</td>\n",
              "      <td>90.0</td>\n",
              "      <td>80.0</td>\n",
              "      <td>1</td>\n",
              "    </tr>\n",
              "    <tr>\n",
              "      <th>1</th>\n",
              "      <td>1</td>\n",
              "      <td>36</td>\n",
              "      <td>4.0</td>\n",
              "      <td>M</td>\n",
              "      <td>NO</td>\n",
              "      <td>0.0</td>\n",
              "      <td>0.0</td>\n",
              "      <td>0</td>\n",
              "      <td>1</td>\n",
              "      <td>0</td>\n",
              "      <td>212.0</td>\n",
              "      <td>168.0</td>\n",
              "      <td>98.0</td>\n",
              "      <td>29.77</td>\n",
              "      <td>72.0</td>\n",
              "      <td>75.0</td>\n",
              "      <td>0</td>\n",
              "    </tr>\n",
              "    <tr>\n",
              "      <th>2</th>\n",
              "      <td>2</td>\n",
              "      <td>46</td>\n",
              "      <td>1.0</td>\n",
              "      <td>F</td>\n",
              "      <td>YES</td>\n",
              "      <td>10.0</td>\n",
              "      <td>0.0</td>\n",
              "      <td>0</td>\n",
              "      <td>0</td>\n",
              "      <td>0</td>\n",
              "      <td>250.0</td>\n",
              "      <td>116.0</td>\n",
              "      <td>71.0</td>\n",
              "      <td>20.35</td>\n",
              "      <td>88.0</td>\n",
              "      <td>94.0</td>\n",
              "      <td>0</td>\n",
              "    </tr>\n",
              "    <tr>\n",
              "      <th>3</th>\n",
              "      <td>3</td>\n",
              "      <td>50</td>\n",
              "      <td>1.0</td>\n",
              "      <td>M</td>\n",
              "      <td>YES</td>\n",
              "      <td>20.0</td>\n",
              "      <td>0.0</td>\n",
              "      <td>0</td>\n",
              "      <td>1</td>\n",
              "      <td>0</td>\n",
              "      <td>233.0</td>\n",
              "      <td>158.0</td>\n",
              "      <td>88.0</td>\n",
              "      <td>28.26</td>\n",
              "      <td>68.0</td>\n",
              "      <td>94.0</td>\n",
              "      <td>1</td>\n",
              "    </tr>\n",
              "    <tr>\n",
              "      <th>4</th>\n",
              "      <td>4</td>\n",
              "      <td>64</td>\n",
              "      <td>1.0</td>\n",
              "      <td>F</td>\n",
              "      <td>YES</td>\n",
              "      <td>30.0</td>\n",
              "      <td>0.0</td>\n",
              "      <td>0</td>\n",
              "      <td>0</td>\n",
              "      <td>0</td>\n",
              "      <td>241.0</td>\n",
              "      <td>136.5</td>\n",
              "      <td>85.0</td>\n",
              "      <td>26.42</td>\n",
              "      <td>70.0</td>\n",
              "      <td>77.0</td>\n",
              "      <td>0</td>\n",
              "    </tr>\n",
              "  </tbody>\n",
              "</table>\n",
              "</div>\n",
              "      <button class=\"colab-df-convert\" onclick=\"convertToInteractive('df-63af3e8e-63a1-4d95-a870-8d3406715e61')\"\n",
              "              title=\"Convert this dataframe to an interactive table.\"\n",
              "              style=\"display:none;\">\n",
              "        \n",
              "  <svg xmlns=\"http://www.w3.org/2000/svg\" height=\"24px\"viewBox=\"0 0 24 24\"\n",
              "       width=\"24px\">\n",
              "    <path d=\"M0 0h24v24H0V0z\" fill=\"none\"/>\n",
              "    <path d=\"M18.56 5.44l.94 2.06.94-2.06 2.06-.94-2.06-.94-.94-2.06-.94 2.06-2.06.94zm-11 1L8.5 8.5l.94-2.06 2.06-.94-2.06-.94L8.5 2.5l-.94 2.06-2.06.94zm10 10l.94 2.06.94-2.06 2.06-.94-2.06-.94-.94-2.06-.94 2.06-2.06.94z\"/><path d=\"M17.41 7.96l-1.37-1.37c-.4-.4-.92-.59-1.43-.59-.52 0-1.04.2-1.43.59L10.3 9.45l-7.72 7.72c-.78.78-.78 2.05 0 2.83L4 21.41c.39.39.9.59 1.41.59.51 0 1.02-.2 1.41-.59l7.78-7.78 2.81-2.81c.8-.78.8-2.07 0-2.86zM5.41 20L4 18.59l7.72-7.72 1.47 1.35L5.41 20z\"/>\n",
              "  </svg>\n",
              "      </button>\n",
              "      \n",
              "  <style>\n",
              "    .colab-df-container {\n",
              "      display:flex;\n",
              "      flex-wrap:wrap;\n",
              "      gap: 12px;\n",
              "    }\n",
              "\n",
              "    .colab-df-convert {\n",
              "      background-color: #E8F0FE;\n",
              "      border: none;\n",
              "      border-radius: 50%;\n",
              "      cursor: pointer;\n",
              "      display: none;\n",
              "      fill: #1967D2;\n",
              "      height: 32px;\n",
              "      padding: 0 0 0 0;\n",
              "      width: 32px;\n",
              "    }\n",
              "\n",
              "    .colab-df-convert:hover {\n",
              "      background-color: #E2EBFA;\n",
              "      box-shadow: 0px 1px 2px rgba(60, 64, 67, 0.3), 0px 1px 3px 1px rgba(60, 64, 67, 0.15);\n",
              "      fill: #174EA6;\n",
              "    }\n",
              "\n",
              "    [theme=dark] .colab-df-convert {\n",
              "      background-color: #3B4455;\n",
              "      fill: #D2E3FC;\n",
              "    }\n",
              "\n",
              "    [theme=dark] .colab-df-convert:hover {\n",
              "      background-color: #434B5C;\n",
              "      box-shadow: 0px 1px 3px 1px rgba(0, 0, 0, 0.15);\n",
              "      filter: drop-shadow(0px 1px 2px rgba(0, 0, 0, 0.3));\n",
              "      fill: #FFFFFF;\n",
              "    }\n",
              "  </style>\n",
              "\n",
              "      <script>\n",
              "        const buttonEl =\n",
              "          document.querySelector('#df-63af3e8e-63a1-4d95-a870-8d3406715e61 button.colab-df-convert');\n",
              "        buttonEl.style.display =\n",
              "          google.colab.kernel.accessAllowed ? 'block' : 'none';\n",
              "\n",
              "        async function convertToInteractive(key) {\n",
              "          const element = document.querySelector('#df-63af3e8e-63a1-4d95-a870-8d3406715e61');\n",
              "          const dataTable =\n",
              "            await google.colab.kernel.invokeFunction('convertToInteractive',\n",
              "                                                     [key], {});\n",
              "          if (!dataTable) return;\n",
              "\n",
              "          const docLinkHtml = 'Like what you see? Visit the ' +\n",
              "            '<a target=\"_blank\" href=https://colab.research.google.com/notebooks/data_table.ipynb>data table notebook</a>'\n",
              "            + ' to learn more about interactive tables.';\n",
              "          element.innerHTML = '';\n",
              "          dataTable['output_type'] = 'display_data';\n",
              "          await google.colab.output.renderOutput(dataTable, element);\n",
              "          const docLink = document.createElement('div');\n",
              "          docLink.innerHTML = docLinkHtml;\n",
              "          element.appendChild(docLink);\n",
              "        }\n",
              "      </script>\n",
              "    </div>\n",
              "  </div>\n",
              "  "
            ]
          },
          "metadata": {},
          "execution_count": 4
        }
      ]
    },
    {
      "cell_type": "code",
      "metadata": {
        "colab": {
          "base_uri": "https://localhost:8080/"
        },
        "id": "I564p1aDzUWZ",
        "outputId": "2d8e4013-cdc7-4670-95cf-d0f30966b378"
      },
      "source": [
        "#shape and of the dataset\n",
        "data.shape"
      ],
      "execution_count": null,
      "outputs": [
        {
          "output_type": "execute_result",
          "data": {
            "text/plain": [
              "(3390, 17)"
            ]
          },
          "metadata": {},
          "execution_count": 5
        }
      ]
    },
    {
      "cell_type": "code",
      "metadata": {
        "colab": {
          "base_uri": "https://localhost:8080/"
        },
        "id": "1tNfn02g0XCO",
        "outputId": "1427b5fe-beaf-40a2-dac0-fe99ab8015ba"
      },
      "source": [
        "#all the columns in the dataset\n",
        "data.columns\n"
      ],
      "execution_count": null,
      "outputs": [
        {
          "output_type": "execute_result",
          "data": {
            "text/plain": [
              "Index(['id', 'age', 'education', 'sex', 'is_smoking', 'cigsPerDay', 'BPMeds',\n",
              "       'prevalentStroke', 'prevalentHyp', 'diabetes', 'totChol', 'sysBP',\n",
              "       'diaBP', 'BMI', 'heartRate', 'glucose', 'TenYearCHD'],\n",
              "      dtype='object')"
            ]
          },
          "metadata": {},
          "execution_count": 6
        }
      ]
    },
    {
      "cell_type": "code",
      "metadata": {
        "colab": {
          "base_uri": "https://localhost:8080/"
        },
        "id": "L1YEAUfM0aYp",
        "outputId": "289caebe-3d78-4c30-d9ab-f5522f5ab803"
      },
      "source": [
        "#the number of unique values that each column contains\n",
        "data.nunique()"
      ],
      "execution_count": null,
      "outputs": [
        {
          "output_type": "execute_result",
          "data": {
            "text/plain": [
              "id                 3390\n",
              "age                  39\n",
              "education             4\n",
              "sex                   2\n",
              "is_smoking            2\n",
              "cigsPerDay           32\n",
              "BPMeds                2\n",
              "prevalentStroke       2\n",
              "prevalentHyp          2\n",
              "diabetes              2\n",
              "totChol             240\n",
              "sysBP               226\n",
              "diaBP               142\n",
              "BMI                1259\n",
              "heartRate            68\n",
              "glucose             132\n",
              "TenYearCHD            2\n",
              "dtype: int64"
            ]
          },
          "metadata": {},
          "execution_count": 7
        }
      ]
    },
    {
      "cell_type": "code",
      "metadata": {
        "colab": {
          "base_uri": "https://localhost:8080/",
          "height": 364
        },
        "id": "EoHFe6u-0cwt",
        "outputId": "af9b20bd-3f0c-497b-8154-bdfae6eb9736"
      },
      "source": [
        "data.describe()"
      ],
      "execution_count": null,
      "outputs": [
        {
          "output_type": "execute_result",
          "data": {
            "text/plain": [
              "                id          age    education   cigsPerDay       BPMeds  \\\n",
              "count  3390.000000  3390.000000  3303.000000  3368.000000  3346.000000   \n",
              "mean   1694.500000    49.542183     1.970936     9.069477     0.029886   \n",
              "std     978.753033     8.592878     1.019081    11.879078     0.170299   \n",
              "min       0.000000    32.000000     1.000000     0.000000     0.000000   \n",
              "25%     847.250000    42.000000     1.000000     0.000000     0.000000   \n",
              "50%    1694.500000    49.000000     2.000000     0.000000     0.000000   \n",
              "75%    2541.750000    56.000000     3.000000    20.000000     0.000000   \n",
              "max    3389.000000    70.000000     4.000000    70.000000     1.000000   \n",
              "\n",
              "       prevalentStroke  prevalentHyp     diabetes      totChol       sysBP  \\\n",
              "count      3390.000000   3390.000000  3390.000000  3352.000000  3390.00000   \n",
              "mean          0.006490      0.315339     0.025664   237.074284   132.60118   \n",
              "std           0.080309      0.464719     0.158153    45.247430    22.29203   \n",
              "min           0.000000      0.000000     0.000000   107.000000    83.50000   \n",
              "25%           0.000000      0.000000     0.000000   206.000000   117.00000   \n",
              "50%           0.000000      0.000000     0.000000   234.000000   128.50000   \n",
              "75%           0.000000      1.000000     0.000000   264.000000   144.00000   \n",
              "max           1.000000      1.000000     1.000000   696.000000   295.00000   \n",
              "\n",
              "             diaBP          BMI    heartRate      glucose   TenYearCHD  \n",
              "count  3390.000000  3376.000000  3389.000000  3086.000000  3390.000000  \n",
              "mean     82.883038    25.794964    75.977279    82.086520     0.150737  \n",
              "std      12.023581     4.115449    11.971868    24.244753     0.357846  \n",
              "min      48.000000    15.960000    45.000000    40.000000     0.000000  \n",
              "25%      74.500000    23.020000    68.000000    71.000000     0.000000  \n",
              "50%      82.000000    25.380000    75.000000    78.000000     0.000000  \n",
              "75%      90.000000    28.040000    83.000000    87.000000     0.000000  \n",
              "max     142.500000    56.800000   143.000000   394.000000     1.000000  "
            ],
            "text/html": [
              "\n",
              "  <div id=\"df-05323582-33cc-43fb-9a81-92965bf2b895\">\n",
              "    <div class=\"colab-df-container\">\n",
              "      <div>\n",
              "<style scoped>\n",
              "    .dataframe tbody tr th:only-of-type {\n",
              "        vertical-align: middle;\n",
              "    }\n",
              "\n",
              "    .dataframe tbody tr th {\n",
              "        vertical-align: top;\n",
              "    }\n",
              "\n",
              "    .dataframe thead th {\n",
              "        text-align: right;\n",
              "    }\n",
              "</style>\n",
              "<table border=\"1\" class=\"dataframe\">\n",
              "  <thead>\n",
              "    <tr style=\"text-align: right;\">\n",
              "      <th></th>\n",
              "      <th>id</th>\n",
              "      <th>age</th>\n",
              "      <th>education</th>\n",
              "      <th>cigsPerDay</th>\n",
              "      <th>BPMeds</th>\n",
              "      <th>prevalentStroke</th>\n",
              "      <th>prevalentHyp</th>\n",
              "      <th>diabetes</th>\n",
              "      <th>totChol</th>\n",
              "      <th>sysBP</th>\n",
              "      <th>diaBP</th>\n",
              "      <th>BMI</th>\n",
              "      <th>heartRate</th>\n",
              "      <th>glucose</th>\n",
              "      <th>TenYearCHD</th>\n",
              "    </tr>\n",
              "  </thead>\n",
              "  <tbody>\n",
              "    <tr>\n",
              "      <th>count</th>\n",
              "      <td>3390.000000</td>\n",
              "      <td>3390.000000</td>\n",
              "      <td>3303.000000</td>\n",
              "      <td>3368.000000</td>\n",
              "      <td>3346.000000</td>\n",
              "      <td>3390.000000</td>\n",
              "      <td>3390.000000</td>\n",
              "      <td>3390.000000</td>\n",
              "      <td>3352.000000</td>\n",
              "      <td>3390.00000</td>\n",
              "      <td>3390.000000</td>\n",
              "      <td>3376.000000</td>\n",
              "      <td>3389.000000</td>\n",
              "      <td>3086.000000</td>\n",
              "      <td>3390.000000</td>\n",
              "    </tr>\n",
              "    <tr>\n",
              "      <th>mean</th>\n",
              "      <td>1694.500000</td>\n",
              "      <td>49.542183</td>\n",
              "      <td>1.970936</td>\n",
              "      <td>9.069477</td>\n",
              "      <td>0.029886</td>\n",
              "      <td>0.006490</td>\n",
              "      <td>0.315339</td>\n",
              "      <td>0.025664</td>\n",
              "      <td>237.074284</td>\n",
              "      <td>132.60118</td>\n",
              "      <td>82.883038</td>\n",
              "      <td>25.794964</td>\n",
              "      <td>75.977279</td>\n",
              "      <td>82.086520</td>\n",
              "      <td>0.150737</td>\n",
              "    </tr>\n",
              "    <tr>\n",
              "      <th>std</th>\n",
              "      <td>978.753033</td>\n",
              "      <td>8.592878</td>\n",
              "      <td>1.019081</td>\n",
              "      <td>11.879078</td>\n",
              "      <td>0.170299</td>\n",
              "      <td>0.080309</td>\n",
              "      <td>0.464719</td>\n",
              "      <td>0.158153</td>\n",
              "      <td>45.247430</td>\n",
              "      <td>22.29203</td>\n",
              "      <td>12.023581</td>\n",
              "      <td>4.115449</td>\n",
              "      <td>11.971868</td>\n",
              "      <td>24.244753</td>\n",
              "      <td>0.357846</td>\n",
              "    </tr>\n",
              "    <tr>\n",
              "      <th>min</th>\n",
              "      <td>0.000000</td>\n",
              "      <td>32.000000</td>\n",
              "      <td>1.000000</td>\n",
              "      <td>0.000000</td>\n",
              "      <td>0.000000</td>\n",
              "      <td>0.000000</td>\n",
              "      <td>0.000000</td>\n",
              "      <td>0.000000</td>\n",
              "      <td>107.000000</td>\n",
              "      <td>83.50000</td>\n",
              "      <td>48.000000</td>\n",
              "      <td>15.960000</td>\n",
              "      <td>45.000000</td>\n",
              "      <td>40.000000</td>\n",
              "      <td>0.000000</td>\n",
              "    </tr>\n",
              "    <tr>\n",
              "      <th>25%</th>\n",
              "      <td>847.250000</td>\n",
              "      <td>42.000000</td>\n",
              "      <td>1.000000</td>\n",
              "      <td>0.000000</td>\n",
              "      <td>0.000000</td>\n",
              "      <td>0.000000</td>\n",
              "      <td>0.000000</td>\n",
              "      <td>0.000000</td>\n",
              "      <td>206.000000</td>\n",
              "      <td>117.00000</td>\n",
              "      <td>74.500000</td>\n",
              "      <td>23.020000</td>\n",
              "      <td>68.000000</td>\n",
              "      <td>71.000000</td>\n",
              "      <td>0.000000</td>\n",
              "    </tr>\n",
              "    <tr>\n",
              "      <th>50%</th>\n",
              "      <td>1694.500000</td>\n",
              "      <td>49.000000</td>\n",
              "      <td>2.000000</td>\n",
              "      <td>0.000000</td>\n",
              "      <td>0.000000</td>\n",
              "      <td>0.000000</td>\n",
              "      <td>0.000000</td>\n",
              "      <td>0.000000</td>\n",
              "      <td>234.000000</td>\n",
              "      <td>128.50000</td>\n",
              "      <td>82.000000</td>\n",
              "      <td>25.380000</td>\n",
              "      <td>75.000000</td>\n",
              "      <td>78.000000</td>\n",
              "      <td>0.000000</td>\n",
              "    </tr>\n",
              "    <tr>\n",
              "      <th>75%</th>\n",
              "      <td>2541.750000</td>\n",
              "      <td>56.000000</td>\n",
              "      <td>3.000000</td>\n",
              "      <td>20.000000</td>\n",
              "      <td>0.000000</td>\n",
              "      <td>0.000000</td>\n",
              "      <td>1.000000</td>\n",
              "      <td>0.000000</td>\n",
              "      <td>264.000000</td>\n",
              "      <td>144.00000</td>\n",
              "      <td>90.000000</td>\n",
              "      <td>28.040000</td>\n",
              "      <td>83.000000</td>\n",
              "      <td>87.000000</td>\n",
              "      <td>0.000000</td>\n",
              "    </tr>\n",
              "    <tr>\n",
              "      <th>max</th>\n",
              "      <td>3389.000000</td>\n",
              "      <td>70.000000</td>\n",
              "      <td>4.000000</td>\n",
              "      <td>70.000000</td>\n",
              "      <td>1.000000</td>\n",
              "      <td>1.000000</td>\n",
              "      <td>1.000000</td>\n",
              "      <td>1.000000</td>\n",
              "      <td>696.000000</td>\n",
              "      <td>295.00000</td>\n",
              "      <td>142.500000</td>\n",
              "      <td>56.800000</td>\n",
              "      <td>143.000000</td>\n",
              "      <td>394.000000</td>\n",
              "      <td>1.000000</td>\n",
              "    </tr>\n",
              "  </tbody>\n",
              "</table>\n",
              "</div>\n",
              "      <button class=\"colab-df-convert\" onclick=\"convertToInteractive('df-05323582-33cc-43fb-9a81-92965bf2b895')\"\n",
              "              title=\"Convert this dataframe to an interactive table.\"\n",
              "              style=\"display:none;\">\n",
              "        \n",
              "  <svg xmlns=\"http://www.w3.org/2000/svg\" height=\"24px\"viewBox=\"0 0 24 24\"\n",
              "       width=\"24px\">\n",
              "    <path d=\"M0 0h24v24H0V0z\" fill=\"none\"/>\n",
              "    <path d=\"M18.56 5.44l.94 2.06.94-2.06 2.06-.94-2.06-.94-.94-2.06-.94 2.06-2.06.94zm-11 1L8.5 8.5l.94-2.06 2.06-.94-2.06-.94L8.5 2.5l-.94 2.06-2.06.94zm10 10l.94 2.06.94-2.06 2.06-.94-2.06-.94-.94-2.06-.94 2.06-2.06.94z\"/><path d=\"M17.41 7.96l-1.37-1.37c-.4-.4-.92-.59-1.43-.59-.52 0-1.04.2-1.43.59L10.3 9.45l-7.72 7.72c-.78.78-.78 2.05 0 2.83L4 21.41c.39.39.9.59 1.41.59.51 0 1.02-.2 1.41-.59l7.78-7.78 2.81-2.81c.8-.78.8-2.07 0-2.86zM5.41 20L4 18.59l7.72-7.72 1.47 1.35L5.41 20z\"/>\n",
              "  </svg>\n",
              "      </button>\n",
              "      \n",
              "  <style>\n",
              "    .colab-df-container {\n",
              "      display:flex;\n",
              "      flex-wrap:wrap;\n",
              "      gap: 12px;\n",
              "    }\n",
              "\n",
              "    .colab-df-convert {\n",
              "      background-color: #E8F0FE;\n",
              "      border: none;\n",
              "      border-radius: 50%;\n",
              "      cursor: pointer;\n",
              "      display: none;\n",
              "      fill: #1967D2;\n",
              "      height: 32px;\n",
              "      padding: 0 0 0 0;\n",
              "      width: 32px;\n",
              "    }\n",
              "\n",
              "    .colab-df-convert:hover {\n",
              "      background-color: #E2EBFA;\n",
              "      box-shadow: 0px 1px 2px rgba(60, 64, 67, 0.3), 0px 1px 3px 1px rgba(60, 64, 67, 0.15);\n",
              "      fill: #174EA6;\n",
              "    }\n",
              "\n",
              "    [theme=dark] .colab-df-convert {\n",
              "      background-color: #3B4455;\n",
              "      fill: #D2E3FC;\n",
              "    }\n",
              "\n",
              "    [theme=dark] .colab-df-convert:hover {\n",
              "      background-color: #434B5C;\n",
              "      box-shadow: 0px 1px 3px 1px rgba(0, 0, 0, 0.15);\n",
              "      filter: drop-shadow(0px 1px 2px rgba(0, 0, 0, 0.3));\n",
              "      fill: #FFFFFF;\n",
              "    }\n",
              "  </style>\n",
              "\n",
              "      <script>\n",
              "        const buttonEl =\n",
              "          document.querySelector('#df-05323582-33cc-43fb-9a81-92965bf2b895 button.colab-df-convert');\n",
              "        buttonEl.style.display =\n",
              "          google.colab.kernel.accessAllowed ? 'block' : 'none';\n",
              "\n",
              "        async function convertToInteractive(key) {\n",
              "          const element = document.querySelector('#df-05323582-33cc-43fb-9a81-92965bf2b895');\n",
              "          const dataTable =\n",
              "            await google.colab.kernel.invokeFunction('convertToInteractive',\n",
              "                                                     [key], {});\n",
              "          if (!dataTable) return;\n",
              "\n",
              "          const docLinkHtml = 'Like what you see? Visit the ' +\n",
              "            '<a target=\"_blank\" href=https://colab.research.google.com/notebooks/data_table.ipynb>data table notebook</a>'\n",
              "            + ' to learn more about interactive tables.';\n",
              "          element.innerHTML = '';\n",
              "          dataTable['output_type'] = 'display_data';\n",
              "          await google.colab.output.renderOutput(dataTable, element);\n",
              "          const docLink = document.createElement('div');\n",
              "          docLink.innerHTML = docLinkHtml;\n",
              "          element.appendChild(docLink);\n",
              "        }\n",
              "      </script>\n",
              "    </div>\n",
              "  </div>\n",
              "  "
            ]
          },
          "metadata": {},
          "execution_count": 8
        }
      ]
    },
    {
      "cell_type": "code",
      "metadata": {
        "colab": {
          "base_uri": "https://localhost:8080/"
        },
        "id": "jUfCoYHD0fVq",
        "outputId": "b21ec4ab-e629-429f-8545-25b2e0f39f1a"
      },
      "source": [
        "#showing the datatype of all features\n",
        "data.info()"
      ],
      "execution_count": null,
      "outputs": [
        {
          "output_type": "stream",
          "name": "stdout",
          "text": [
            "<class 'pandas.core.frame.DataFrame'>\n",
            "RangeIndex: 3390 entries, 0 to 3389\n",
            "Data columns (total 17 columns):\n",
            " #   Column           Non-Null Count  Dtype  \n",
            "---  ------           --------------  -----  \n",
            " 0   id               3390 non-null   int64  \n",
            " 1   age              3390 non-null   int64  \n",
            " 2   education        3303 non-null   float64\n",
            " 3   sex              3390 non-null   object \n",
            " 4   is_smoking       3390 non-null   object \n",
            " 5   cigsPerDay       3368 non-null   float64\n",
            " 6   BPMeds           3346 non-null   float64\n",
            " 7   prevalentStroke  3390 non-null   int64  \n",
            " 8   prevalentHyp     3390 non-null   int64  \n",
            " 9   diabetes         3390 non-null   int64  \n",
            " 10  totChol          3352 non-null   float64\n",
            " 11  sysBP            3390 non-null   float64\n",
            " 12  diaBP            3390 non-null   float64\n",
            " 13  BMI              3376 non-null   float64\n",
            " 14  heartRate        3389 non-null   float64\n",
            " 15  glucose          3086 non-null   float64\n",
            " 16  TenYearCHD       3390 non-null   int64  \n",
            "dtypes: float64(9), int64(6), object(2)\n",
            "memory usage: 450.4+ KB\n"
          ]
        }
      ]
    },
    {
      "cell_type": "markdown",
      "metadata": {
        "id": "xIIZZjqy0jks"
      },
      "source": [
        "## **Data Cleaning**"
      ]
    },
    {
      "cell_type": "markdown",
      "metadata": {
        "id": "nI98K-ov0nEN"
      },
      "source": [
        "**Checking for null values**"
      ]
    },
    {
      "cell_type": "code",
      "metadata": {
        "colab": {
          "base_uri": "https://localhost:8080/",
          "height": 162
        },
        "id": "W7wHtiIP0q8E",
        "outputId": "7bfe0381-c5ea-4d7c-a6eb-48b8f2119b45"
      },
      "source": [
        "pd.DataFrame(data.isna().sum(),columns=['records missings']).T"
      ],
      "execution_count": null,
      "outputs": [
        {
          "output_type": "execute_result",
          "data": {
            "text/plain": [
              "                  id  age  education  sex  is_smoking  cigsPerDay  BPMeds  \\\n",
              "records missings   0    0         87    0           0          22      44   \n",
              "\n",
              "                  prevalentStroke  prevalentHyp  diabetes  totChol  sysBP  \\\n",
              "records missings                0             0         0       38      0   \n",
              "\n",
              "                  diaBP  BMI  heartRate  glucose  TenYearCHD  \n",
              "records missings      0   14          1      304           0  "
            ],
            "text/html": [
              "\n",
              "  <div id=\"df-2130bcf1-8be4-4c11-9fa0-3188e0a382c4\">\n",
              "    <div class=\"colab-df-container\">\n",
              "      <div>\n",
              "<style scoped>\n",
              "    .dataframe tbody tr th:only-of-type {\n",
              "        vertical-align: middle;\n",
              "    }\n",
              "\n",
              "    .dataframe tbody tr th {\n",
              "        vertical-align: top;\n",
              "    }\n",
              "\n",
              "    .dataframe thead th {\n",
              "        text-align: right;\n",
              "    }\n",
              "</style>\n",
              "<table border=\"1\" class=\"dataframe\">\n",
              "  <thead>\n",
              "    <tr style=\"text-align: right;\">\n",
              "      <th></th>\n",
              "      <th>id</th>\n",
              "      <th>age</th>\n",
              "      <th>education</th>\n",
              "      <th>sex</th>\n",
              "      <th>is_smoking</th>\n",
              "      <th>cigsPerDay</th>\n",
              "      <th>BPMeds</th>\n",
              "      <th>prevalentStroke</th>\n",
              "      <th>prevalentHyp</th>\n",
              "      <th>diabetes</th>\n",
              "      <th>totChol</th>\n",
              "      <th>sysBP</th>\n",
              "      <th>diaBP</th>\n",
              "      <th>BMI</th>\n",
              "      <th>heartRate</th>\n",
              "      <th>glucose</th>\n",
              "      <th>TenYearCHD</th>\n",
              "    </tr>\n",
              "  </thead>\n",
              "  <tbody>\n",
              "    <tr>\n",
              "      <th>records missings</th>\n",
              "      <td>0</td>\n",
              "      <td>0</td>\n",
              "      <td>87</td>\n",
              "      <td>0</td>\n",
              "      <td>0</td>\n",
              "      <td>22</td>\n",
              "      <td>44</td>\n",
              "      <td>0</td>\n",
              "      <td>0</td>\n",
              "      <td>0</td>\n",
              "      <td>38</td>\n",
              "      <td>0</td>\n",
              "      <td>0</td>\n",
              "      <td>14</td>\n",
              "      <td>1</td>\n",
              "      <td>304</td>\n",
              "      <td>0</td>\n",
              "    </tr>\n",
              "  </tbody>\n",
              "</table>\n",
              "</div>\n",
              "      <button class=\"colab-df-convert\" onclick=\"convertToInteractive('df-2130bcf1-8be4-4c11-9fa0-3188e0a382c4')\"\n",
              "              title=\"Convert this dataframe to an interactive table.\"\n",
              "              style=\"display:none;\">\n",
              "        \n",
              "  <svg xmlns=\"http://www.w3.org/2000/svg\" height=\"24px\"viewBox=\"0 0 24 24\"\n",
              "       width=\"24px\">\n",
              "    <path d=\"M0 0h24v24H0V0z\" fill=\"none\"/>\n",
              "    <path d=\"M18.56 5.44l.94 2.06.94-2.06 2.06-.94-2.06-.94-.94-2.06-.94 2.06-2.06.94zm-11 1L8.5 8.5l.94-2.06 2.06-.94-2.06-.94L8.5 2.5l-.94 2.06-2.06.94zm10 10l.94 2.06.94-2.06 2.06-.94-2.06-.94-.94-2.06-.94 2.06-2.06.94z\"/><path d=\"M17.41 7.96l-1.37-1.37c-.4-.4-.92-.59-1.43-.59-.52 0-1.04.2-1.43.59L10.3 9.45l-7.72 7.72c-.78.78-.78 2.05 0 2.83L4 21.41c.39.39.9.59 1.41.59.51 0 1.02-.2 1.41-.59l7.78-7.78 2.81-2.81c.8-.78.8-2.07 0-2.86zM5.41 20L4 18.59l7.72-7.72 1.47 1.35L5.41 20z\"/>\n",
              "  </svg>\n",
              "      </button>\n",
              "      \n",
              "  <style>\n",
              "    .colab-df-container {\n",
              "      display:flex;\n",
              "      flex-wrap:wrap;\n",
              "      gap: 12px;\n",
              "    }\n",
              "\n",
              "    .colab-df-convert {\n",
              "      background-color: #E8F0FE;\n",
              "      border: none;\n",
              "      border-radius: 50%;\n",
              "      cursor: pointer;\n",
              "      display: none;\n",
              "      fill: #1967D2;\n",
              "      height: 32px;\n",
              "      padding: 0 0 0 0;\n",
              "      width: 32px;\n",
              "    }\n",
              "\n",
              "    .colab-df-convert:hover {\n",
              "      background-color: #E2EBFA;\n",
              "      box-shadow: 0px 1px 2px rgba(60, 64, 67, 0.3), 0px 1px 3px 1px rgba(60, 64, 67, 0.15);\n",
              "      fill: #174EA6;\n",
              "    }\n",
              "\n",
              "    [theme=dark] .colab-df-convert {\n",
              "      background-color: #3B4455;\n",
              "      fill: #D2E3FC;\n",
              "    }\n",
              "\n",
              "    [theme=dark] .colab-df-convert:hover {\n",
              "      background-color: #434B5C;\n",
              "      box-shadow: 0px 1px 3px 1px rgba(0, 0, 0, 0.15);\n",
              "      filter: drop-shadow(0px 1px 2px rgba(0, 0, 0, 0.3));\n",
              "      fill: #FFFFFF;\n",
              "    }\n",
              "  </style>\n",
              "\n",
              "      <script>\n",
              "        const buttonEl =\n",
              "          document.querySelector('#df-2130bcf1-8be4-4c11-9fa0-3188e0a382c4 button.colab-df-convert');\n",
              "        buttonEl.style.display =\n",
              "          google.colab.kernel.accessAllowed ? 'block' : 'none';\n",
              "\n",
              "        async function convertToInteractive(key) {\n",
              "          const element = document.querySelector('#df-2130bcf1-8be4-4c11-9fa0-3188e0a382c4');\n",
              "          const dataTable =\n",
              "            await google.colab.kernel.invokeFunction('convertToInteractive',\n",
              "                                                     [key], {});\n",
              "          if (!dataTable) return;\n",
              "\n",
              "          const docLinkHtml = 'Like what you see? Visit the ' +\n",
              "            '<a target=\"_blank\" href=https://colab.research.google.com/notebooks/data_table.ipynb>data table notebook</a>'\n",
              "            + ' to learn more about interactive tables.';\n",
              "          element.innerHTML = '';\n",
              "          dataTable['output_type'] = 'display_data';\n",
              "          await google.colab.output.renderOutput(dataTable, element);\n",
              "          const docLink = document.createElement('div');\n",
              "          docLink.innerHTML = docLinkHtml;\n",
              "          element.appendChild(docLink);\n",
              "        }\n",
              "      </script>\n",
              "    </div>\n",
              "  </div>\n",
              "  "
            ]
          },
          "metadata": {},
          "execution_count": 10
        }
      ]
    },
    {
      "cell_type": "code",
      "metadata": {
        "colab": {
          "base_uri": "https://localhost:8080/"
        },
        "id": "XnPPCQg505p2",
        "outputId": "df9a0bb6-4b9c-440c-d274-629c6ae1744b"
      },
      "source": [
        "data.dropna(axis = 0, inplace = True) \n",
        "print(data.shape)"
      ],
      "execution_count": null,
      "outputs": [
        {
          "output_type": "stream",
          "name": "stdout",
          "text": [
            "(2927, 17)\n"
          ]
        }
      ]
    },
    {
      "cell_type": "code",
      "metadata": {
        "colab": {
          "base_uri": "https://localhost:8080/",
          "height": 602
        },
        "id": "hmeZPAsa0rFc",
        "outputId": "b66c57cc-bcf7-4277-f2c8-2105318df779"
      },
      "source": [
        "#checking for nan values\n",
        "mno.matrix(data,figsize=(20,8))"
      ],
      "execution_count": null,
      "outputs": [
        {
          "output_type": "execute_result",
          "data": {
            "text/plain": [
              "<matplotlib.axes._subplots.AxesSubplot at 0x7fa62349db50>"
            ]
          },
          "metadata": {},
          "execution_count": 12
        },
        {
          "output_type": "display_data",
          "data": {
            "text/plain": [
              "<Figure size 1440x576 with 2 Axes>"
            ],
            "image/png": "[encoded data removed]"
          },
          "metadata": {
            "needs_background": "light"
          }
        }
      ]
    },
    {
      "cell_type": "markdown",
      "metadata": {
        "id": "pA573AqC0nMd"
      },
      "source": [
        "# **Data Visualization**"
      ]
    },
    {
      "cell_type": "markdown",
      "metadata": {
        "id": "giWcIvMJ1lJe"
      },
      "source": [
        "**Seprate dependent and independent variables**"
      ]
    },
    {
      "cell_type": "code",
      "metadata": {
        "id": "X-6a0C650hW9"
      },
      "source": [
        "dependent_variable = 'TenYearCHD'"
      ],
      "execution_count": null,
      "outputs": []
    },
    {
      "cell_type": "code",
      "metadata": {
        "colab": {
          "base_uri": "https://localhost:8080/"
        },
        "id": "F-wwEm5A1u0g",
        "outputId": "949bce48-1cbe-4391-98c0-f64e1ca378d9"
      },
      "source": [
        "independent_variables = list(set(data.columns.tolist()) - {dependent_variable})\n",
        "independent_variables"
      ],
      "execution_count": null,
      "outputs": [
        {
          "output_type": "execute_result",
          "data": {
            "text/plain": [
              "['diabetes',\n",
              " 'age',\n",
              " 'glucose',\n",
              " 'heartRate',\n",
              " 'BPMeds',\n",
              " 'sysBP',\n",
              " 'BMI',\n",
              " 'cigsPerDay',\n",
              " 'id',\n",
              " 'sex',\n",
              " 'diaBP',\n",
              " 'education',\n",
              " 'prevalentHyp',\n",
              " 'is_smoking',\n",
              " 'totChol',\n",
              " 'prevalentStroke']"
            ]
          },
          "metadata": {},
          "execution_count": 14
        }
      ]
    },
    {
      "cell_type": "code",
      "metadata": {
        "id": "7y2Sjn1f3kek"
      },
      "source": [
        "# Divide the columns based on the type for clear management\n",
        "col_Demographic = [ 'age', 'education', 'sex']\n",
        "\n",
        "col_Behavioral = ['is_smoking', 'cigsPerDay']\n",
        "\n",
        "col_medical_history = ['BPMeds', 'prevalentStroke', 'prevalentHyp', 'diabetes', 'totChol', 'sysBP',\n",
        "       'diaBP', 'BMI', 'heartRate', 'glucose']\n",
        "\n",
        "col_medical_current = ['totChol', 'sysBP', 'diaBP', 'BMI', 'heartRate', 'glucose']\n",
        "\n",
        "col_target = ['TenYearCHD']"
      ],
      "execution_count": null,
      "outputs": []
    },
    {
      "cell_type": "code",
      "metadata": {
        "id": "zz7F-OaZ2d9F"
      },
      "source": [
        "independent_vars = data[col_Demographic + col_Behavioral + col_medical_history + col_medical_current]\n",
        "dependent_vars = data[col_target]"
      ],
      "execution_count": null,
      "outputs": []
    },
    {
      "cell_type": "code",
      "metadata": {
        "colab": {
          "base_uri": "https://localhost:8080/",
          "height": 364
        },
        "id": "W07QdnG1151r",
        "outputId": "e9e40260-7297-4be1-9384-81f555c681f3"
      },
      "source": [
        "independent_vars.describe()"
      ],
      "execution_count": null,
      "outputs": [
        {
          "output_type": "execute_result",
          "data": {
            "text/plain": [
              "               age    education   cigsPerDay       BPMeds  prevalentStroke  \\\n",
              "count  2927.000000  2927.000000  2927.000000  2927.000000      2927.000000   \n",
              "mean     49.507345     1.965494     9.112743     0.030065         0.006150   \n",
              "std       8.597191     1.017199    11.882784     0.170795         0.078192   \n",
              "min      32.000000     1.000000     0.000000     0.000000         0.000000   \n",
              "25%      42.000000     1.000000     0.000000     0.000000         0.000000   \n",
              "50%      49.000000     2.000000     0.000000     0.000000         0.000000   \n",
              "75%      56.000000     3.000000    20.000000     0.000000         0.000000   \n",
              "max      70.000000     4.000000    70.000000     1.000000         1.000000   \n",
              "\n",
              "       prevalentHyp     diabetes      totChol        sysBP        diaBP  \\\n",
              "count   2927.000000  2927.000000  2927.000000  2927.000000  2927.000000   \n",
              "mean       0.314315     0.026990   237.129142   132.626409    82.906218   \n",
              "std        0.464322     0.162082    44.613282    22.326197    12.078873   \n",
              "min        0.000000     0.000000   113.000000    83.500000    48.000000   \n",
              "25%        0.000000     0.000000   206.000000   117.000000    74.500000   \n",
              "50%        0.000000     0.000000   234.000000   128.500000    82.000000   \n",
              "75%        1.000000     0.000000   264.000000   144.000000    90.000000   \n",
              "max        1.000000     1.000000   600.000000   295.000000   142.500000   \n",
              "\n",
              "               BMI    heartRate      glucose      totChol        sysBP  \\\n",
              "count  2927.000000  2927.000000  2927.000000  2927.000000  2927.000000   \n",
              "mean     25.797041    75.888282    81.934404   237.129142   132.626409   \n",
              "std       4.130376    11.971207    24.106943    44.613282    22.326197   \n",
              "min      15.960000    45.000000    40.000000   113.000000    83.500000   \n",
              "25%      23.030000    68.000000    71.000000   206.000000   117.000000   \n",
              "50%      25.380000    75.000000    78.000000   234.000000   128.500000   \n",
              "75%      28.040000    83.000000    87.000000   264.000000   144.000000   \n",
              "max      56.800000   143.000000   394.000000   600.000000   295.000000   \n",
              "\n",
              "             diaBP          BMI    heartRate      glucose  \n",
              "count  2927.000000  2927.000000  2927.000000  2927.000000  \n",
              "mean     82.906218    25.797041    75.888282    81.934404  \n",
              "std      12.078873     4.130376    11.971207    24.106943  \n",
              "min      48.000000    15.960000    45.000000    40.000000  \n",
              "25%      74.500000    23.030000    68.000000    71.000000  \n",
              "50%      82.000000    25.380000    75.000000    78.000000  \n",
              "75%      90.000000    28.040000    83.000000    87.000000  \n",
              "max     142.500000    56.800000   143.000000   394.000000  "
            ],
            "text/html": [
              "\n",
              "  <div id=\"df-349ad2a1-799d-4917-b2e4-fe92701236b8\">\n",
              "    <div class=\"colab-df-container\">\n",
              "      <div>\n",
              "<style scoped>\n",
              "    .dataframe tbody tr th:only-of-type {\n",
              "        vertical-align: middle;\n",
              "    }\n",
              "\n",
              "    .dataframe tbody tr th {\n",
              "        vertical-align: top;\n",
              "    }\n",
              "\n",
              "    .dataframe thead th {\n",
              "        text-align: right;\n",
              "    }\n",
              "</style>\n",
              "<table border=\"1\" class=\"dataframe\">\n",
              "  <thead>\n",
              "    <tr style=\"text-align: right;\">\n",
              "      <th></th>\n",
              "      <th>age</th>\n",
              "      <th>education</th>\n",
              "      <th>cigsPerDay</th>\n",
              "      <th>BPMeds</th>\n",
              "      <th>prevalentStroke</th>\n",
              "      <th>prevalentHyp</th>\n",
              "      <th>diabetes</th>\n",
              "      <th>totChol</th>\n",
              "      <th>sysBP</th>\n",
              "      <th>diaBP</th>\n",
              "      <th>BMI</th>\n",
              "      <th>heartRate</th>\n",
              "      <th>glucose</th>\n",
              "      <th>totChol</th>\n",
              "      <th>sysBP</th>\n",
              "      <th>diaBP</th>\n",
              "      <th>BMI</th>\n",
              "      <th>heartRate</th>\n",
              "      <th>glucose</th>\n",
              "    </tr>\n",
              "  </thead>\n",
              "  <tbody>\n",
              "    <tr>\n",
              "      <th>count</th>\n",
              "      <td>2927.000000</td>\n",
              "      <td>2927.000000</td>\n",
              "      <td>2927.000000</td>\n",
              "      <td>2927.000000</td>\n",
              "      <td>2927.000000</td>\n",
              "      <td>2927.000000</td>\n",
              "      <td>2927.000000</td>\n",
              "      <td>2927.000000</td>\n",
              "      <td>2927.000000</td>\n",
              "      <td>2927.000000</td>\n",
              "      <td>2927.000000</td>\n",
              "      <td>2927.000000</td>\n",
              "      <td>2927.000000</td>\n",
              "      <td>2927.000000</td>\n",
              "      <td>2927.000000</td>\n",
              "      <td>2927.000000</td>\n",
              "      <td>2927.000000</td>\n",
              "      <td>2927.000000</td>\n",
              "      <td>2927.000000</td>\n",
              "    </tr>\n",
              "    <tr>\n",
              "      <th>mean</th>\n",
              "      <td>49.507345</td>\n",
              "      <td>1.965494</td>\n",
              "      <td>9.112743</td>\n",
              "      <td>0.030065</td>\n",
              "      <td>0.006150</td>\n",
              "      <td>0.314315</td>\n",
              "      <td>0.026990</td>\n",
              "      <td>237.129142</td>\n",
              "      <td>132.626409</td>\n",
              "      <td>82.906218</td>\n",
              "      <td>25.797041</td>\n",
              "      <td>75.888282</td>\n",
              "      <td>81.934404</td>\n",
              "      <td>237.129142</td>\n",
              "      <td>132.626409</td>\n",
              "      <td>82.906218</td>\n",
              "      <td>25.797041</td>\n",
              "      <td>75.888282</td>\n",
              "      <td>81.934404</td>\n",
              "    </tr>\n",
              "    <tr>\n",
              "      <th>std</th>\n",
              "      <td>8.597191</td>\n",
              "      <td>1.017199</td>\n",
              "      <td>11.882784</td>\n",
              "      <td>0.170795</td>\n",
              "      <td>0.078192</td>\n",
              "      <td>0.464322</td>\n",
              "      <td>0.162082</td>\n",
              "      <td>44.613282</td>\n",
              "      <td>22.326197</td>\n",
              "      <td>12.078873</td>\n",
              "      <td>4.130376</td>\n",
              "      <td>11.971207</td>\n",
              "      <td>24.106943</td>\n",
              "      <td>44.613282</td>\n",
              "      <td>22.326197</td>\n",
              "      <td>12.078873</td>\n",
              "      <td>4.130376</td>\n",
              "      <td>11.971207</td>\n",
              "      <td>24.106943</td>\n",
              "    </tr>\n",
              "    <tr>\n",
              "      <th>min</th>\n",
              "      <td>32.000000</td>\n",
              "      <td>1.000000</td>\n",
              "      <td>0.000000</td>\n",
              "      <td>0.000000</td>\n",
              "      <td>0.000000</td>\n",
              "      <td>0.000000</td>\n",
              "      <td>0.000000</td>\n",
              "      <td>113.000000</td>\n",
              "      <td>83.500000</td>\n",
              "      <td>48.000000</td>\n",
              "      <td>15.960000</td>\n",
              "      <td>45.000000</td>\n",
              "      <td>40.000000</td>\n",
              "      <td>113.000000</td>\n",
              "      <td>83.500000</td>\n",
              "      <td>48.000000</td>\n",
              "      <td>15.960000</td>\n",
              "      <td>45.000000</td>\n",
              "      <td>40.000000</td>\n",
              "    </tr>\n",
              "    <tr>\n",
              "      <th>25%</th>\n",
              "      <td>42.000000</td>\n",
              "      <td>1.000000</td>\n",
              "      <td>0.000000</td>\n",
              "      <td>0.000000</td>\n",
              "      <td>0.000000</td>\n",
              "      <td>0.000000</td>\n",
              "      <td>0.000000</td>\n",
              "      <td>206.000000</td>\n",
              "      <td>117.000000</td>\n",
              "      <td>74.500000</td>\n",
              "      <td>23.030000</td>\n",
              "      <td>68.000000</td>\n",
              "      <td>71.000000</td>\n",
              "      <td>206.000000</td>\n",
              "      <td>117.000000</td>\n",
              "      <td>74.500000</td>\n",
              "      <td>23.030000</td>\n",
              "      <td>68.000000</td>\n",
              "      <td>71.000000</td>\n",
              "    </tr>\n",
              "    <tr>\n",
              "      <th>50%</th>\n",
              "      <td>49.000000</td>\n",
              "      <td>2.000000</td>\n",
              "      <td>0.000000</td>\n",
              "      <td>0.000000</td>\n",
              "      <td>0.000000</td>\n",
              "      <td>0.000000</td>\n",
              "      <td>0.000000</td>\n",
              "      <td>234.000000</td>\n",
              "      <td>128.500000</td>\n",
              "      <td>82.000000</td>\n",
              "      <td>25.380000</td>\n",
              "      <td>75.000000</td>\n",
              "      <td>78.000000</td>\n",
              "      <td>234.000000</td>\n",
              "      <td>128.500000</td>\n",
              "      <td>82.000000</td>\n",
              "      <td>25.380000</td>\n",
              "      <td>75.000000</td>\n",
              "      <td>78.000000</td>\n",
              "    </tr>\n",
              "    <tr>\n",
              "      <th>75%</th>\n",
              "      <td>56.000000</td>\n",
              "      <td>3.000000</td>\n",
              "      <td>20.000000</td>\n",
              "      <td>0.000000</td>\n",
              "      <td>0.000000</td>\n",
              "      <td>1.000000</td>\n",
              "      <td>0.000000</td>\n",
              "      <td>264.000000</td>\n",
              "      <td>144.000000</td>\n",
              "      <td>90.000000</td>\n",
              "      <td>28.040000</td>\n",
              "      <td>83.000000</td>\n",
              "      <td>87.000000</td>\n",
              "      <td>264.000000</td>\n",
              "      <td>144.000000</td>\n",
              "      <td>90.000000</td>\n",
              "      <td>28.040000</td>\n",
              "      <td>83.000000</td>\n",
              "      <td>87.000000</td>\n",
              "    </tr>\n",
              "    <tr>\n",
              "      <th>max</th>\n",
              "      <td>70.000000</td>\n",
              "      <td>4.000000</td>\n",
              "      <td>70.000000</td>\n",
              "      <td>1.000000</td>\n",
              "      <td>1.000000</td>\n",
              "      <td>1.000000</td>\n",
              "      <td>1.000000</td>\n",
              "      <td>600.000000</td>\n",
              "      <td>295.000000</td>\n",
              "      <td>142.500000</td>\n",
              "      <td>56.800000</td>\n",
              "      <td>143.000000</td>\n",
              "      <td>394.000000</td>\n",
              "      <td>600.000000</td>\n",
              "      <td>295.000000</td>\n",
              "      <td>142.500000</td>\n",
              "      <td>56.800000</td>\n",
              "      <td>143.000000</td>\n",
              "      <td>394.000000</td>\n",
              "    </tr>\n",
              "  </tbody>\n",
              "</table>\n",
              "</div>\n",
              "      <button class=\"colab-df-convert\" onclick=\"convertToInteractive('df-349ad2a1-799d-4917-b2e4-fe92701236b8')\"\n",
              "              title=\"Convert this dataframe to an interactive table.\"\n",
              "              style=\"display:none;\">\n",
              "        \n",
              "  <svg xmlns=\"http://www.w3.org/2000/svg\" height=\"24px\"viewBox=\"0 0 24 24\"\n",
              "       width=\"24px\">\n",
              "    <path d=\"M0 0h24v24H0V0z\" fill=\"none\"/>\n",
              "    <path d=\"M18.56 5.44l.94 2.06.94-2.06 2.06-.94-2.06-.94-.94-2.06-.94 2.06-2.06.94zm-11 1L8.5 8.5l.94-2.06 2.06-.94-2.06-.94L8.5 2.5l-.94 2.06-2.06.94zm10 10l.94 2.06.94-2.06 2.06-.94-2.06-.94-.94-2.06-.94 2.06-2.06.94z\"/><path d=\"M17.41 7.96l-1.37-1.37c-.4-.4-.92-.59-1.43-.59-.52 0-1.04.2-1.43.59L10.3 9.45l-7.72 7.72c-.78.78-.78 2.05 0 2.83L4 21.41c.39.39.9.59 1.41.59.51 0 1.02-.2 1.41-.59l7.78-7.78 2.81-2.81c.8-.78.8-2.07 0-2.86zM5.41 20L4 18.59l7.72-7.72 1.47 1.35L5.41 20z\"/>\n",
              "  </svg>\n",
              "      </button>\n",
              "      \n",
              "  <style>\n",
              "    .colab-df-container {\n",
              "      display:flex;\n",
              "      flex-wrap:wrap;\n",
              "      gap: 12px;\n",
              "    }\n",
              "\n",
              "    .colab-df-convert {\n",
              "      background-color: #E8F0FE;\n",
              "      border: none;\n",
              "      border-radius: 50%;\n",
              "      cursor: pointer;\n",
              "      display: none;\n",
              "      fill: #1967D2;\n",
              "      height: 32px;\n",
              "      padding: 0 0 0 0;\n",
              "      width: 32px;\n",
              "    }\n",
              "\n",
              "    .colab-df-convert:hover {\n",
              "      background-color: #E2EBFA;\n",
              "      box-shadow: 0px 1px 2px rgba(60, 64, 67, 0.3), 0px 1px 3px 1px rgba(60, 64, 67, 0.15);\n",
              "      fill: #174EA6;\n",
              "    }\n",
              "\n",
              "    [theme=dark] .colab-df-convert {\n",
              "      background-color: #3B4455;\n",
              "      fill: #D2E3FC;\n",
              "    }\n",
              "\n",
              "    [theme=dark] .colab-df-convert:hover {\n",
              "      background-color: #434B5C;\n",
              "      box-shadow: 0px 1px 3px 1px rgba(0, 0, 0, 0.15);\n",
              "      filter: drop-shadow(0px 1px 2px rgba(0, 0, 0, 0.3));\n",
              "      fill: #FFFFFF;\n",
              "    }\n",
              "  </style>\n",
              "\n",
              "      <script>\n",
              "        const buttonEl =\n",
              "          document.querySelector('#df-349ad2a1-799d-4917-b2e4-fe92701236b8 button.colab-df-convert');\n",
              "        buttonEl.style.display =\n",
              "          google.colab.kernel.accessAllowed ? 'block' : 'none';\n",
              "\n",
              "        async function convertToInteractive(key) {\n",
              "          const element = document.querySelector('#df-349ad2a1-799d-4917-b2e4-fe92701236b8');\n",
              "          const dataTable =\n",
              "            await google.colab.kernel.invokeFunction('convertToInteractive',\n",
              "                                                     [key], {});\n",
              "          if (!dataTable) return;\n",
              "\n",
              "          const docLinkHtml = 'Like what you see? Visit the ' +\n",
              "            '<a target=\"_blank\" href=https://colab.research.google.com/notebooks/data_table.ipynb>data table notebook</a>'\n",
              "            + ' to learn more about interactive tables.';\n",
              "          element.innerHTML = '';\n",
              "          dataTable['output_type'] = 'display_data';\n",
              "          await google.colab.output.renderOutput(dataTable, element);\n",
              "          const docLink = document.createElement('div');\n",
              "          docLink.innerHTML = docLinkHtml;\n",
              "          element.appendChild(docLink);\n",
              "        }\n",
              "      </script>\n",
              "    </div>\n",
              "  </div>\n",
              "  "
            ]
          },
          "metadata": {},
          "execution_count": 17
        }
      ]
    },
    {
      "cell_type": "code",
      "metadata": {
        "colab": {
          "base_uri": "https://localhost:8080/",
          "height": 300
        },
        "id": "CYQe03Nu2R0W",
        "outputId": "461d025a-a756-4e20-d76b-4f44b282b28e"
      },
      "source": [
        "dependent_vars.describe()"
      ],
      "execution_count": null,
      "outputs": [
        {
          "output_type": "execute_result",
          "data": {
            "text/plain": [
              "        TenYearCHD\n",
              "count  2927.000000\n",
              "mean      0.151691\n",
              "std       0.358783\n",
              "min       0.000000\n",
              "25%       0.000000\n",
              "50%       0.000000\n",
              "75%       0.000000\n",
              "max       1.000000"
            ],
            "text/html": [
              "\n",
              "  <div id=\"df-15983c7c-3c19-4ec4-b7fe-49162dbfbb61\">\n",
              "    <div class=\"colab-df-container\">\n",
              "      <div>\n",
              "<style scoped>\n",
              "    .dataframe tbody tr th:only-of-type {\n",
              "        vertical-align: middle;\n",
              "    }\n",
              "\n",
              "    .dataframe tbody tr th {\n",
              "        vertical-align: top;\n",
              "    }\n",
              "\n",
              "    .dataframe thead th {\n",
              "        text-align: right;\n",
              "    }\n",
              "</style>\n",
              "<table border=\"1\" class=\"dataframe\">\n",
              "  <thead>\n",
              "    <tr style=\"text-align: right;\">\n",
              "      <th></th>\n",
              "      <th>TenYearCHD</th>\n",
              "    </tr>\n",
              "  </thead>\n",
              "  <tbody>\n",
              "    <tr>\n",
              "      <th>count</th>\n",
              "      <td>2927.000000</td>\n",
              "    </tr>\n",
              "    <tr>\n",
              "      <th>mean</th>\n",
              "      <td>0.151691</td>\n",
              "    </tr>\n",
              "    <tr>\n",
              "      <th>std</th>\n",
              "      <td>0.358783</td>\n",
              "    </tr>\n",
              "    <tr>\n",
              "      <th>min</th>\n",
              "      <td>0.000000</td>\n",
              "    </tr>\n",
              "    <tr>\n",
              "      <th>25%</th>\n",
              "      <td>0.000000</td>\n",
              "    </tr>\n",
              "    <tr>\n",
              "      <th>50%</th>\n",
              "      <td>0.000000</td>\n",
              "    </tr>\n",
              "    <tr>\n",
              "      <th>75%</th>\n",
              "      <td>0.000000</td>\n",
              "    </tr>\n",
              "    <tr>\n",
              "      <th>max</th>\n",
              "      <td>1.000000</td>\n",
              "    </tr>\n",
              "  </tbody>\n",
              "</table>\n",
              "</div>\n",
              "      <button class=\"colab-df-convert\" onclick=\"convertToInteractive('df-15983c7c-3c19-4ec4-b7fe-49162dbfbb61')\"\n",
              "              title=\"Convert this dataframe to an interactive table.\"\n",
              "              style=\"display:none;\">\n",
              "        \n",
              "  <svg xmlns=\"http://www.w3.org/2000/svg\" height=\"24px\"viewBox=\"0 0 24 24\"\n",
              "       width=\"24px\">\n",
              "    <path d=\"M0 0h24v24H0V0z\" fill=\"none\"/>\n",
              "    <path d=\"M18.56 5.44l.94 2.06.94-2.06 2.06-.94-2.06-.94-.94-2.06-.94 2.06-2.06.94zm-11 1L8.5 8.5l.94-2.06 2.06-.94-2.06-.94L8.5 2.5l-.94 2.06-2.06.94zm10 10l.94 2.06.94-2.06 2.06-.94-2.06-.94-.94-2.06-.94 2.06-2.06.94z\"/><path d=\"M17.41 7.96l-1.37-1.37c-.4-.4-.92-.59-1.43-.59-.52 0-1.04.2-1.43.59L10.3 9.45l-7.72 7.72c-.78.78-.78 2.05 0 2.83L4 21.41c.39.39.9.59 1.41.59.51 0 1.02-.2 1.41-.59l7.78-7.78 2.81-2.81c.8-.78.8-2.07 0-2.86zM5.41 20L4 18.59l7.72-7.72 1.47 1.35L5.41 20z\"/>\n",
              "  </svg>\n",
              "      </button>\n",
              "      \n",
              "  <style>\n",
              "    .colab-df-container {\n",
              "      display:flex;\n",
              "      flex-wrap:wrap;\n",
              "      gap: 12px;\n",
              "    }\n",
              "\n",
              "    .colab-df-convert {\n",
              "      background-color: #E8F0FE;\n",
              "      border: none;\n",
              "      border-radius: 50%;\n",
              "      cursor: pointer;\n",
              "      display: none;\n",
              "      fill: #1967D2;\n",
              "      height: 32px;\n",
              "      padding: 0 0 0 0;\n",
              "      width: 32px;\n",
              "    }\n",
              "\n",
              "    .colab-df-convert:hover {\n",
              "      background-color: #E2EBFA;\n",
              "      box-shadow: 0px 1px 2px rgba(60, 64, 67, 0.3), 0px 1px 3px 1px rgba(60, 64, 67, 0.15);\n",
              "      fill: #174EA6;\n",
              "    }\n",
              "\n",
              "    [theme=dark] .colab-df-convert {\n",
              "      background-color: #3B4455;\n",
              "      fill: #D2E3FC;\n",
              "    }\n",
              "\n",
              "    [theme=dark] .colab-df-convert:hover {\n",
              "      background-color: #434B5C;\n",
              "      box-shadow: 0px 1px 3px 1px rgba(0, 0, 0, 0.15);\n",
              "      filter: drop-shadow(0px 1px 2px rgba(0, 0, 0, 0.3));\n",
              "      fill: #FFFFFF;\n",
              "    }\n",
              "  </style>\n",
              "\n",
              "      <script>\n",
              "        const buttonEl =\n",
              "          document.querySelector('#df-15983c7c-3c19-4ec4-b7fe-49162dbfbb61 button.colab-df-convert');\n",
              "        buttonEl.style.display =\n",
              "          google.colab.kernel.accessAllowed ? 'block' : 'none';\n",
              "\n",
              "        async function convertToInteractive(key) {\n",
              "          const element = document.querySelector('#df-15983c7c-3c19-4ec4-b7fe-49162dbfbb61');\n",
              "          const dataTable =\n",
              "            await google.colab.kernel.invokeFunction('convertToInteractive',\n",
              "                                                     [key], {});\n",
              "          if (!dataTable) return;\n",
              "\n",
              "          const docLinkHtml = 'Like what you see? Visit the ' +\n",
              "            '<a target=\"_blank\" href=https://colab.research.google.com/notebooks/data_table.ipynb>data table notebook</a>'\n",
              "            + ' to learn more about interactive tables.';\n",
              "          element.innerHTML = '';\n",
              "          dataTable['output_type'] = 'display_data';\n",
              "          await google.colab.output.renderOutput(dataTable, element);\n",
              "          const docLink = document.createElement('div');\n",
              "          docLink.innerHTML = docLinkHtml;\n",
              "          element.appendChild(docLink);\n",
              "        }\n",
              "      </script>\n",
              "    </div>\n",
              "  </div>\n",
              "  "
            ]
          },
          "metadata": {},
          "execution_count": 18
        }
      ]
    },
    {
      "cell_type": "markdown",
      "metadata": {
        "id": "74EezrfX4fNk"
      },
      "source": [
        "**Hitogram for all the features to understand the distribution**"
      ]
    },
    {
      "cell_type": "code",
      "metadata": {
        "colab": {
          "base_uri": "https://localhost:8080/",
          "height": 934
        },
        "id": "QtNBhSuR4beH",
        "outputId": "f5724390-7906-41f1-829b-a10b6b97a3e5"
      },
      "source": [
        "independent_vars.hist(figsize= (16,16))\n",
        "plt.show()"
      ],
      "execution_count": null,
      "outputs": [
        {
          "output_type": "display_data",
          "data": {
            "text/plain": [
              "<Figure size 1152x1152 with 20 Axes>"
            ],
            "image/png": "[encoded data removed]"
          },
          "metadata": {
            "needs_background": "light"
          }
        }
      ]
    },
    {
      "cell_type": "code",
      "metadata": {
        "colab": {
          "base_uri": "https://localhost:8080/",
          "height": 316
        },
        "id": "dyXMJuMC4kRB",
        "outputId": "eb12fae9-1b14-4d91-bdc4-9c2d92a1c056"
      },
      "source": [
        "dependent_vars.hist()"
      ],
      "execution_count": null,
      "outputs": [
        {
          "output_type": "execute_result",
          "data": {
            "text/plain": [
              "array([[<matplotlib.axes._subplots.AxesSubplot object at 0x7fa620212b10>]],\n",
              "      dtype=object)"
            ]
          },
          "metadata": {},
          "execution_count": 20
        },
        {
          "output_type": "display_data",
          "data": {
            "text/plain": [
              "<Figure size 432x288 with 1 Axes>"
            ],
            "image/png": "[encoded data removed]"
          },
          "metadata": {
            "needs_background": "light"
          }
        }
      ]
    },
    {
      "cell_type": "markdown",
      "metadata": {
        "id": "0-GV4rtw56dq"
      },
      "source": [
        "**Checking for Outliers**"
      ]
    },
    {
      "cell_type": "code",
      "metadata": {
        "id": "FAThhMrm6Kvf",
        "colab": {
          "base_uri": "https://localhost:8080/",
          "height": 464
        },
        "outputId": "0d0d4810-d98b-42d2-c57b-7971cf6728a6"
      },
      "source": [
        "plt.figure(figsize=(18,7))\n",
        "sns.boxplot(data=data)\n",
        "plt.title('Checking for outliers', size=16)\n",
        "plt.xlabel('Features', size=14)\n",
        "plt.show()"
      ],
      "execution_count": null,
      "outputs": [
        {
          "output_type": "display_data",
          "data": {
            "text/plain": [
              "<Figure size 1296x504 with 1 Axes>"
            ],
            "image/png": "[encoded data removed]"
          },
          "metadata": {
            "needs_background": "light"
          }
        }
      ]
    },
    {
      "cell_type": "markdown",
      "metadata": {
        "id": "_A2Tj0Xz_m4N"
      },
      "source": [
        "## **Visualization on Dependent and Independent Variables**"
      ]
    },
    {
      "cell_type": "markdown",
      "metadata": {
        "id": "rbgZxaCW5WQU"
      },
      "source": [
        "**Predict variable (desired target)**"
      ]
    },
    {
      "cell_type": "code",
      "metadata": {
        "colab": {
          "base_uri": "https://localhost:8080/",
          "height": 302
        },
        "id": "-8NeUGTD5WjL",
        "outputId": "457fd787-d83b-4a67-f1b2-c60afa455400"
      },
      "source": [
        "# value counts of 10-year risk of coronary heart disease CHD\n",
        "plt.figure(figsize=(7,4))\n",
        "ch = sns.countplot(data['TenYearCHD'])\n",
        "plt.xlabel('TenYearCHD', size=16)\n",
        "plt.ylabel('Counts', size=16)\n",
        "plt.title('value counts of 10-year risk of coronary heart disease CHD', size=16)\n",
        "for p in ch.patches:\n",
        "    ch.annotate(f'\\n{p.get_height()}', (p.get_x()+0.2, p.get_height()), ha='center', va='top', size=16)\n",
        "plt.show()"
      ],
      "execution_count": null,
      "outputs": [
        {
          "output_type": "display_data",
          "data": {
            "text/plain": [
              "<Figure size 504x288 with 1 Axes>"
            ],
            "image/png": "[encoded data removed]"
          },
          "metadata": {
            "needs_background": "light"
          }
        }
      ]
    },
    {
      "cell_type": "code",
      "source": [
        "#plotting of Promo days vs open and close of stores\n",
        "plt.figure(figsize=(12,5))\n",
        "ax = sns.countplot(x='TenYearCHD', hue='sex', data=data)\n",
        "plt.title('TenYearCHD Vs sex', size=16)\n",
        "plt.xlabel('sex', size=14)\n",
        "plt.ylabel('Count', size=14)\n",
        "for p in ax.patches:\n",
        "    ax.annotate(f'\\n{p.get_height()}',  (p.get_x()+0.2, p.get_height()), ha='center', va='top', size=16)\n",
        "\n",
        "plt.show()"
      ],
      "metadata": {
        "colab": {
          "base_uri": "https://localhost:8080/",
          "height": 356
        },
        "id": "2gauA3Kdti0B",
        "outputId": "7a832a06-0e18-4a34-8544-01ed17ded97c"
      },
      "execution_count": null,
      "outputs": [
        {
          "output_type": "display_data",
          "data": {
            "text/plain": [
              "<Figure size 864x360 with 1 Axes>"
            ],
            "image/png": "[encoded data removed]"
          },
          "metadata": {
            "needs_background": "light"
          }
        }
      ]
    },
    {
      "cell_type": "code",
      "source": [
        "#plotting of Promo days vs open and close of stores\n",
        "plt.figure(figsize=(12,5))\n",
        "ax = sns.countplot(x='TenYearCHD', hue='is_smoking', data=data)\n",
        "plt.title('TenYearCHD Vs Number of persons smoking', size=16)\n",
        "plt.xlabel('Person smoking', size=14)\n",
        "plt.ylabel('Count', size=14)\n",
        "for p in ax.patches:\n",
        "    ax.annotate(f'\\n{p.get_height()}',  (p.get_x()+0.2, p.get_height()), ha='center', va='top', size=16)\n",
        "\n",
        "plt.show()"
      ],
      "metadata": {
        "colab": {
          "base_uri": "https://localhost:8080/",
          "height": 356
        },
        "id": "bNdoVU2gumIg",
        "outputId": "461e7298-bcc0-4f7a-f1fb-e5cc08473913"
      },
      "execution_count": null,
      "outputs": [
        {
          "output_type": "display_data",
          "data": {
            "text/plain": [
              "<Figure size 864x360 with 1 Axes>"
            ],
            "image/png": "[encoded data removed]"
          },
          "metadata": {
            "needs_background": "light"
          }
        }
      ]
    },
    {
      "cell_type": "code",
      "source": [
        "#plotting of Promo days vs open and close of stores\n",
        "plt.figure(figsize=(12,5))\n",
        "ax = sns.countplot(x='TenYearCHD', hue='prevalentHyp', data=data)\n",
        "plt.title('TenYearCHD Vs prevalentHyp', size=16)\n",
        "plt.xlabel('number of person with prevalentHyp', size=14)\n",
        "plt.ylabel('Count', size=14)\n",
        "for p in ax.patches:\n",
        "    ax.annotate(f'\\n{p.get_height()}',  (p.get_x()+0.2, p.get_height()), ha='center', va='top', size=16)\n",
        "\n",
        "plt.show()"
      ],
      "metadata": {
        "colab": {
          "base_uri": "https://localhost:8080/",
          "height": 356
        },
        "id": "3bnid0fUumQw",
        "outputId": "6a08f942-41b3-425b-b8de-75b6b1f76601"
      },
      "execution_count": null,
      "outputs": [
        {
          "output_type": "display_data",
          "data": {
            "text/plain": [
              "<Figure size 864x360 with 1 Axes>"
            ],
            "image/png": "[encoded data removed]"
          },
          "metadata": {
            "needs_background": "light"
          }
        }
      ]
    },
    {
      "cell_type": "markdown",
      "metadata": {
        "id": "jBnU9W27vdEd"
      },
      "source": [
        "**value counts of male and female**"
      ]
    },
    {
      "cell_type": "code",
      "metadata": {
        "colab": {
          "base_uri": "https://localhost:8080/",
          "height": 302
        },
        "id": "W71DGZDykp8c",
        "outputId": "8face5c9-a9c8-4465-a8f6-e57d86fd49d6"
      },
      "source": [
        "# value counts of male and female\n",
        "plt.figure(figsize=(7,4))\n",
        "ch = sns.countplot(data['sex'])\n",
        "plt.xlabel('sex', size=16)\n",
        "plt.ylabel('Counts', size=16)\n",
        "plt.title('Value counts of Male and Female', size=16)\n",
        "for p in ch.patches:\n",
        "    ch.annotate(f'\\n{p.get_height()}', (p.get_x()+0.2, p.get_height()), ha='center', va='top', size=16)\n",
        "plt.show()"
      ],
      "execution_count": null,
      "outputs": [
        {
          "output_type": "display_data",
          "data": {
            "text/plain": [
              "<Figure size 504x288 with 1 Axes>"
            ],
            "image/png": "[encoded data removed]"
          },
          "metadata": {
            "needs_background": "light"
          }
        }
      ]
    },
    {
      "cell_type": "markdown",
      "metadata": {
        "id": "LpCZgJsVx2Iv"
      },
      "source": [
        "**value counts of person smoking**"
      ]
    },
    {
      "cell_type": "code",
      "metadata": {
        "colab": {
          "base_uri": "https://localhost:8080/",
          "height": 302
        },
        "id": "eRe7zPByv4Hp",
        "outputId": "0bccef02-ee45-475a-ff4b-ab163e4ea842"
      },
      "source": [
        "# value counts of person smoking\n",
        "plt.figure(figsize=(7,4))\n",
        "ch = sns.countplot(data['is_smoking'])\n",
        "plt.xlabel('Person Smoking', size=16)\n",
        "plt.ylabel('Counts', size=16)\n",
        "plt.title('value counts of person smoking', size=16)\n",
        "for p in ch.patches:\n",
        "    ch.annotate(f'\\n{p.get_height()}', (p.get_x()+0.2, p.get_height()), ha='center', va='top', size=16)\n",
        "plt.show()"
      ],
      "execution_count": null,
      "outputs": [
        {
          "output_type": "display_data",
          "data": {
            "text/plain": [
              "<Figure size 504x288 with 1 Axes>"
            ],
            "image/png": "[encoded data removed]"
          },
          "metadata": {
            "needs_background": "light"
          }
        }
      ]
    },
    {
      "cell_type": "markdown",
      "metadata": {
        "id": "AXhFVjIlx6e5"
      },
      "source": [
        "**value counts of patient was on blood pressure medication**"
      ]
    },
    {
      "cell_type": "code",
      "metadata": {
        "colab": {
          "base_uri": "https://localhost:8080/"
        },
        "id": "F536T8vk0UO9",
        "outputId": "8ef931c3-ec13-42d6-f546-51f9fe45758e"
      },
      "source": [
        "# value counts of patient was on blood pressure medication\n",
        "BPMeds = data['BPMeds'].dropna(0).value_counts()\n",
        "BPMeds"
      ],
      "execution_count": null,
      "outputs": [
        {
          "output_type": "execute_result",
          "data": {
            "text/plain": [
              "0.0    2839\n",
              "1.0      88\n",
              "Name: BPMeds, dtype: int64"
            ]
          },
          "metadata": {},
          "execution_count": 28
        }
      ]
    },
    {
      "cell_type": "code",
      "metadata": {
        "colab": {
          "base_uri": "https://localhost:8080/",
          "height": 370
        },
        "id": "3mn75VKs1HC0",
        "outputId": "83df0ca3-da74-4d4f-f015-4cf3d22ca853"
      },
      "source": [
        "plt.rcParams['figure.figsize'] = 4,4\n",
        "labels = data['BPMeds'].value_counts().index.tolist()\n",
        "sizes = data['BPMeds'].value_counts().tolist()\n",
        "plt.title('People on BPMeds', size=16)\n",
        "colors = ['lightskyblue','yellow']\n",
        "explode = (0, 0.1)\n",
        "plt.pie(sizes, labels=labels,explode = (0, 0.1), colors=colors,autopct='%1.1f%%' ,startangle=60,textprops={'fontsize': 14})"
      ],
      "execution_count": null,
      "outputs": [
        {
          "output_type": "execute_result",
          "data": {
            "text/plain": [
              "([<matplotlib.patches.Wedge at 0x7fa61df49350>,\n",
              "  <matplotlib.patches.Wedge at 0x7fa61df492d0>],\n",
              " [Text(-0.6373922057404507, -0.8965105554656471, '0.0'),\n",
              "  Text(0.6953370375618967, 0.9780114540201692, '1.0')],\n",
              " [Text(-0.34766847585842764, -0.48900575752671654, '97.0%'),\n",
              "  Text(0.4056132719111064, 0.5705066815117654, '3.0%')])"
            ]
          },
          "metadata": {},
          "execution_count": 29
        },
        {
          "output_type": "display_data",
          "data": {
            "text/plain": [
              "<Figure size 288x288 with 1 Axes>"
            ],
            "image/png": "[encoded data removed]"
          },
          "metadata": {}
        }
      ]
    },
    {
      "cell_type": "markdown",
      "metadata": {
        "id": "l0vr7x9vyK-e"
      },
      "source": [
        "**value counts of patient previously had a stroke**"
      ]
    },
    {
      "cell_type": "code",
      "metadata": {
        "colab": {
          "base_uri": "https://localhost:8080/"
        },
        "id": "7xj8XZDk1Q3U",
        "outputId": "0c4c0a85-c6f4-4602-9fcd-9d5776e4f61c"
      },
      "source": [
        "#value counts of patient previously had a stroke\n",
        "prevalentStroke = data['prevalentStroke'].value_counts()\n",
        "prevalentStroke"
      ],
      "execution_count": null,
      "outputs": [
        {
          "output_type": "execute_result",
          "data": {
            "text/plain": [
              "0    2909\n",
              "1      18\n",
              "Name: prevalentStroke, dtype: int64"
            ]
          },
          "metadata": {},
          "execution_count": 30
        }
      ]
    },
    {
      "cell_type": "code",
      "metadata": {
        "colab": {
          "base_uri": "https://localhost:8080/",
          "height": 370
        },
        "id": "8HlIbnx61Q4n",
        "outputId": "3b49a623-a975-4218-9c2b-2f7bbc2e444f"
      },
      "source": [
        "plt.rcParams['figure.figsize'] = 4,4\n",
        "labels = data['prevalentStroke'].value_counts().index.tolist()\n",
        "sizes = data['prevalentStroke'].value_counts().tolist()\n",
        "plt.title('previously had a stroke', size=16)\n",
        "colors = ['lightskyblue','yellow']\n",
        "explode = (0, 0.1)\n",
        "plt.pie(sizes, labels=labels,explode = (0, 0.1), colors=colors,autopct='%1.1f%%' ,startangle=60,textprops={'fontsize': 14})"
      ],
      "execution_count": null,
      "outputs": [
        {
          "output_type": "execute_result",
          "data": {
            "text/plain": [
              "([<matplotlib.patches.Wedge at 0x7fa61e0281d0>,\n",
              "  <matplotlib.patches.Wedge at 0x7fa61e028f10>],\n",
              " [Text(-0.5683006948333067, -0.9418249944931282, '0'),\n",
              "  Text(0.6199644214188407, 1.0274454322127293, '1')],\n",
              " [Text(-0.3099821971818036, -0.5137227242689789, '99.4%'),\n",
              "  Text(0.36164591249432365, 0.5993431687907588, '0.6%')])"
            ]
          },
          "metadata": {},
          "execution_count": 31
        },
        {
          "output_type": "display_data",
          "data": {
            "text/plain": [
              "<Figure size 288x288 with 1 Axes>"
            ],
            "image/png": "[encoded data removed]"
          },
          "metadata": {}
        }
      ]
    },
    {
      "cell_type": "markdown",
      "metadata": {
        "id": "HCbdKVkmyXQx"
      },
      "source": [
        "**value counts of patient was hypertensive**"
      ]
    },
    {
      "cell_type": "code",
      "metadata": {
        "colab": {
          "base_uri": "https://localhost:8080/",
          "height": 302
        },
        "id": "Q5rf28llxfvc",
        "outputId": "de1ec6ac-9923-419c-dd6d-9a5f3d3bc703"
      },
      "source": [
        "# value counts of patient was hypertensive\n",
        "plt.figure(figsize=(7,4))\n",
        "ch = sns.countplot(data['prevalentHyp'])\n",
        "plt.xlabel('prevalentHyp', size=16)\n",
        "plt.ylabel('Counts', size=16)\n",
        "plt.title('value counts of patient was hypertensive', size=16)\n",
        "for p in ch.patches:\n",
        "    ch.annotate(f'\\n{p.get_height()}', (p.get_x()+0.2, p.get_height()), ha='center', va='top', size=16)\n",
        "plt.show()"
      ],
      "execution_count": null,
      "outputs": [
        {
          "output_type": "display_data",
          "data": {
            "text/plain": [
              "<Figure size 504x288 with 1 Axes>"
            ],
            "image/png": "[encoded data removed]"
          },
          "metadata": {
            "needs_background": "light"
          }
        }
      ]
    },
    {
      "cell_type": "markdown",
      "metadata": {
        "id": "WXcpoFU4yf5S"
      },
      "source": [
        "**value counts of patient had diabetes**"
      ]
    },
    {
      "cell_type": "code",
      "metadata": {
        "colab": {
          "base_uri": "https://localhost:8080/"
        },
        "id": "MJN1NzXi20cr",
        "outputId": "af05eca8-57e2-4267-8755-6dd557e1e885"
      },
      "source": [
        "#value counts of patient had diabetes\n",
        "diabetes = data['diabetes'].value_counts()\n",
        "diabetes"
      ],
      "execution_count": null,
      "outputs": [
        {
          "output_type": "execute_result",
          "data": {
            "text/plain": [
              "0    2848\n",
              "1      79\n",
              "Name: diabetes, dtype: int64"
            ]
          },
          "metadata": {},
          "execution_count": 33
        }
      ]
    },
    {
      "cell_type": "code",
      "metadata": {
        "colab": {
          "base_uri": "https://localhost:8080/",
          "height": 370
        },
        "id": "3Jztl7uU20na",
        "outputId": "97b791af-2968-40bc-d4e7-b63e82981221"
      },
      "source": [
        "plt.rcParams['figure.figsize'] = 4,4\n",
        "labels = data['diabetes'].value_counts().index.tolist()\n",
        "sizes = data['diabetes'].value_counts().tolist()\n",
        "plt.title('Patients had diabetes', size=16)\n",
        "colors = ['lightskyblue','yellow']\n",
        "explode = (0, 0.1)\n",
        "plt.pie(sizes, labels=labels,explode = (0, 0.1), colors=colors,autopct='%1.1f%%' ,startangle=60,textprops={'fontsize': 14})"
      ],
      "execution_count": null,
      "outputs": [
        {
          "output_type": "execute_result",
          "data": {
            "text/plain": [
              "([<matplotlib.patches.Wedge at 0x7fa61e1915d0>,\n",
              "  <matplotlib.patches.Wedge at 0x7fa61e191a10>],\n",
              " [Text(-0.6287024474481075, -0.9026257433580984, '0'),\n",
              "  Text(0.6858572903044546, 0.9846825769435708, '1')],\n",
              " [Text(-0.3429286076989677, -0.49234131455896274, '97.3%'),\n",
              "  Text(0.40008341934426517, 0.5743981698837496, '2.7%')])"
            ]
          },
          "metadata": {},
          "execution_count": 34
        },
        {
          "output_type": "display_data",
          "data": {
            "text/plain": [
              "<Figure size 288x288 with 1 Axes>"
            ],
            "image/png": "[encoded data removed]"
          },
          "metadata": {}
        }
      ]
    },
    {
      "cell_type": "markdown",
      "metadata": {
        "id": "NoC_qvE36RCd"
      },
      "source": [
        "**Value Count of Age**"
      ]
    },
    {
      "cell_type": "code",
      "metadata": {
        "id": "LtldoZBLxuI9",
        "colab": {
          "base_uri": "https://localhost:8080/",
          "height": 464
        },
        "outputId": "dd0e0ddf-7cc7-4cf8-a54b-22cfd884a202"
      },
      "source": [
        "#value counts of age feature\n",
        "plt.figure(figsize=(18,7))\n",
        "sns.countplot(data=data, x='age')\n",
        "plt.title('Value Count of Age', size=16)\n",
        "plt.xlabel('Age', size=14)\n",
        "plt.ylabel('Count', size=14)\n",
        "plt.show()"
      ],
      "execution_count": null,
      "outputs": [
        {
          "output_type": "display_data",
          "data": {
            "text/plain": [
              "<Figure size 1296x504 with 1 Axes>"
            ],
            "image/png": "[encoded data removed]"
          },
          "metadata": {
            "needs_background": "light"
          }
        }
      ]
    },
    {
      "cell_type": "markdown",
      "metadata": {
        "id": "8yAvFaSu6cew"
      },
      "source": [
        "**Age Vs Person Smoking**"
      ]
    },
    {
      "cell_type": "code",
      "metadata": {
        "colab": {
          "base_uri": "https://localhost:8080/",
          "height": 464
        },
        "id": "whPJOTS_6Y6Y",
        "outputId": "c8173864-2a16-41e1-e834-bf5cbca5c8aa"
      },
      "source": [
        "#visualization of person smoking on the basis of age\n",
        "plt.figure(figsize=(12,7))\n",
        "sns.countplot(data=data, x='age', hue='is_smoking')\n",
        "plt.title('Age vs Person Smoking', size=16)\n",
        "plt.xlabel('Age', size=14)\n",
        "plt.ylabel('Count', size=14)\n",
        "plt.show()"
      ],
      "execution_count": null,
      "outputs": [
        {
          "output_type": "display_data",
          "data": {
            "text/plain": [
              "<Figure size 864x504 with 1 Axes>"
            ],
            "image/png": "[encoded data removed]"
          },
          "metadata": {
            "needs_background": "light"
          }
        }
      ]
    },
    {
      "cell_type": "markdown",
      "metadata": {
        "id": "a-zbNy5L7cE2"
      },
      "source": [
        "**Male and Female Vs Person Smoking**"
      ]
    },
    {
      "cell_type": "code",
      "metadata": {
        "colab": {
          "base_uri": "https://localhost:8080/",
          "height": 356
        },
        "id": "JsClkz3L8MEH",
        "outputId": "01d7ad58-09cb-442e-a015-82cdbf69b03c"
      },
      "source": [
        "#visualization of person smoking on the basis of sex\n",
        "plt.figure(figsize=(12,5))\n",
        "ax = sns.countplot(data=data,x='sex',  hue='is_smoking')\n",
        "plt.title('Male and Female Vs Person Smoking', size=16)\n",
        "plt.xlabel('Sex', size=14)\n",
        "plt.ylabel('Count', size=14)\n",
        "for p in ax.patches:\n",
        "    ax.annotate(f'\\n{p.get_height()}', (p.get_x()+0.2, p.get_height()), va='top', ha='center', size=16)\n",
        "plt.show()"
      ],
      "execution_count": null,
      "outputs": [
        {
          "output_type": "display_data",
          "data": {
            "text/plain": [
              "<Figure size 864x360 with 1 Axes>"
            ],
            "image/png": "[encoded data removed]"
          },
          "metadata": {
            "needs_background": "light"
          }
        }
      ]
    },
    {
      "cell_type": "markdown",
      "metadata": {
        "id": "AIv6vVcF_TZU"
      },
      "source": [
        "# **Data Preparation**"
      ]
    },
    {
      "cell_type": "markdown",
      "metadata": {
        "id": "zJYcc7o7_DaR"
      },
      "source": [
        "**Checking Correlation**"
      ]
    },
    {
      "cell_type": "code",
      "metadata": {
        "colab": {
          "base_uri": "https://localhost:8080/",
          "height": 584
        },
        "id": "bUDHjSJK75sf",
        "outputId": "159a294b-84e3-416e-e064-5683eef7a2fa"
      },
      "source": [
        "data.corr()"
      ],
      "execution_count": null,
      "outputs": [
        {
          "output_type": "execute_result",
          "data": {
            "text/plain": [
              "                       id       age  education  cigsPerDay    BPMeds  \\\n",
              "id               1.000000  0.024679  -0.029438   -0.031746  0.014426   \n",
              "age              0.024679  1.000000  -0.161238   -0.184110  0.138570   \n",
              "education       -0.029438 -0.161238   1.000000    0.015506 -0.023534   \n",
              "cigsPerDay      -0.031746 -0.184110   0.015506    1.000000 -0.036866   \n",
              "BPMeds           0.014426  0.138570  -0.023534   -0.036866  1.000000   \n",
              "prevalentStroke -0.034277  0.049756  -0.027410   -0.047461  0.114107   \n",
              "prevalentHyp     0.022882  0.313543  -0.082675   -0.080570  0.260039   \n",
              "diabetes         0.004331  0.111085  -0.054464   -0.048959  0.069443   \n",
              "totChol         -0.015428  0.281156  -0.011575   -0.026606  0.098210   \n",
              "sysBP            0.030634  0.405238  -0.130417   -0.105104  0.280788   \n",
              "diaBP            0.004233  0.231322  -0.056034   -0.067483  0.206209   \n",
              "BMI              0.033410  0.141001  -0.131304   -0.095310  0.088962   \n",
              "heartRate        0.027590  0.013947  -0.061501    0.055770  0.014681   \n",
              "glucose          0.011366  0.108882  -0.034099   -0.064029  0.069125   \n",
              "TenYearCHD       0.010901  0.234423  -0.062442    0.059797  0.092868   \n",
              "\n",
              "                 prevalentStroke  prevalentHyp  diabetes   totChol     sysBP  \\\n",
              "id                     -0.034277      0.022882  0.004331 -0.015428  0.030634   \n",
              "age                     0.049756      0.313543  0.111085  0.281156  0.405238   \n",
              "education              -0.027410     -0.082675 -0.054464 -0.011575 -0.130417   \n",
              "cigsPerDay             -0.047461     -0.080570 -0.048959 -0.026606 -0.105104   \n",
              "BPMeds                  0.114107      0.260039  0.069443  0.098210  0.280788   \n",
              "prevalentStroke         1.000000      0.059703  0.013866  0.002418  0.061712   \n",
              "prevalentHyp            0.059703      1.000000  0.082510  0.162100  0.699240   \n",
              "diabetes                0.013866      0.082510  1.000000  0.069232  0.108990   \n",
              "totChol                 0.002418      0.162100  0.069232  1.000000  0.210685   \n",
              "sysBP                   0.061712      0.699240  0.108990  0.210685  1.000000   \n",
              "diaBP                   0.059594      0.612037  0.058115  0.165101  0.783586   \n",
              "BMI                     0.029168      0.304790  0.090249  0.113206  0.340782   \n",
              "heartRate              -0.018617      0.154375  0.046822  0.091487  0.180690   \n",
              "glucose                 0.021427      0.086143  0.617189  0.066703  0.134609   \n",
              "TenYearCHD              0.052014      0.169136  0.100006  0.106473  0.217419   \n",
              "\n",
              "                    diaBP       BMI  heartRate   glucose  TenYearCHD  \n",
              "id               0.004233  0.033410   0.027590  0.011366    0.010901  \n",
              "age              0.231322  0.141001   0.013947  0.108882    0.234423  \n",
              "education       -0.056034 -0.131304  -0.061501 -0.034099   -0.062442  \n",
              "cigsPerDay      -0.067483 -0.095310   0.055770 -0.064029    0.059797  \n",
              "BPMeds           0.206209  0.088962   0.014681  0.069125    0.092868  \n",
              "prevalentStroke  0.059594  0.029168  -0.018617  0.021427    0.052014  \n",
              "prevalentHyp     0.612037  0.304790   0.154375  0.086143    0.169136  \n",
              "diabetes         0.058115  0.090249   0.046822  0.617189    0.100006  \n",
              "totChol          0.165101  0.113206   0.091487  0.066703    0.106473  \n",
              "sysBP            0.783586  0.340782   0.180690  0.134609    0.217419  \n",
              "diaBP            1.000000  0.391291   0.173350  0.074630    0.139005  \n",
              "BMI              0.391291  1.000000   0.076848  0.091094    0.075950  \n",
              "heartRate        0.173350  0.076848   1.000000  0.089920    0.018747  \n",
              "glucose          0.074630  0.091094   0.089920  1.000000    0.133286  \n",
              "TenYearCHD       0.139005  0.075950   0.018747  0.133286    1.000000  "
            ],
            "text/html": [
              "\n",
              "  <div id=\"df-98c3acd1-fe8b-43e0-8c6a-c526baf3b317\">\n",
              "    <div class=\"colab-df-container\">\n",
              "      <div>\n",
              "<style scoped>\n",
              "    .dataframe tbody tr th:only-of-type {\n",
              "        vertical-align: middle;\n",
              "    }\n",
              "\n",
              "    .dataframe tbody tr th {\n",
              "        vertical-align: top;\n",
              "    }\n",
              "\n",
              "    .dataframe thead th {\n",
              "        text-align: right;\n",
              "    }\n",
              "</style>\n",
              "<table border=\"1\" class=\"dataframe\">\n",
              "  <thead>\n",
              "    <tr style=\"text-align: right;\">\n",
              "      <th></th>\n",
              "      <th>id</th>\n",
              "      <th>age</th>\n",
              "      <th>education</th>\n",
              "      <th>cigsPerDay</th>\n",
              "      <th>BPMeds</th>\n",
              "      <th>prevalentStroke</th>\n",
              "      <th>prevalentHyp</th>\n",
              "      <th>diabetes</th>\n",
              "      <th>totChol</th>\n",
              "      <th>sysBP</th>\n",
              "      <th>diaBP</th>\n",
              "      <th>BMI</th>\n",
              "      <th>heartRate</th>\n",
              "      <th>glucose</th>\n",
              "      <th>TenYearCHD</th>\n",
              "    </tr>\n",
              "  </thead>\n",
              "  <tbody>\n",
              "    <tr>\n",
              "      <th>id</th>\n",
              "      <td>1.000000</td>\n",
              "      <td>0.024679</td>\n",
              "      <td>-0.029438</td>\n",
              "      <td>-0.031746</td>\n",
              "      <td>0.014426</td>\n",
              "      <td>-0.034277</td>\n",
              "      <td>0.022882</td>\n",
              "      <td>0.004331</td>\n",
              "      <td>-0.015428</td>\n",
              "      <td>0.030634</td>\n",
              "      <td>0.004233</td>\n",
              "      <td>0.033410</td>\n",
              "      <td>0.027590</td>\n",
              "      <td>0.011366</td>\n",
              "      <td>0.010901</td>\n",
              "    </tr>\n",
              "    <tr>\n",
              "      <th>age</th>\n",
              "      <td>0.024679</td>\n",
              "      <td>1.000000</td>\n",
              "      <td>-0.161238</td>\n",
              "      <td>-0.184110</td>\n",
              "      <td>0.138570</td>\n",
              "      <td>0.049756</td>\n",
              "      <td>0.313543</td>\n",
              "      <td>0.111085</td>\n",
              "      <td>0.281156</td>\n",
              "      <td>0.405238</td>\n",
              "      <td>0.231322</td>\n",
              "      <td>0.141001</td>\n",
              "      <td>0.013947</td>\n",
              "      <td>0.108882</td>\n",
              "      <td>0.234423</td>\n",
              "    </tr>\n",
              "    <tr>\n",
              "      <th>education</th>\n",
              "      <td>-0.029438</td>\n",
              "      <td>-0.161238</td>\n",
              "      <td>1.000000</td>\n",
              "      <td>0.015506</td>\n",
              "      <td>-0.023534</td>\n",
              "      <td>-0.027410</td>\n",
              "      <td>-0.082675</td>\n",
              "      <td>-0.054464</td>\n",
              "      <td>-0.011575</td>\n",
              "      <td>-0.130417</td>\n",
              "      <td>-0.056034</td>\n",
              "      <td>-0.131304</td>\n",
              "      <td>-0.061501</td>\n",
              "      <td>-0.034099</td>\n",
              "      <td>-0.062442</td>\n",
              "    </tr>\n",
              "    <tr>\n",
              "      <th>cigsPerDay</th>\n",
              "      <td>-0.031746</td>\n",
              "      <td>-0.184110</td>\n",
              "      <td>0.015506</td>\n",
              "      <td>1.000000</td>\n",
              "      <td>-0.036866</td>\n",
              "      <td>-0.047461</td>\n",
              "      <td>-0.080570</td>\n",
              "      <td>-0.048959</td>\n",
              "      <td>-0.026606</td>\n",
              "      <td>-0.105104</td>\n",
              "      <td>-0.067483</td>\n",
              "      <td>-0.095310</td>\n",
              "      <td>0.055770</td>\n",
              "      <td>-0.064029</td>\n",
              "      <td>0.059797</td>\n",
              "    </tr>\n",
              "    <tr>\n",
              "      <th>BPMeds</th>\n",
              "      <td>0.014426</td>\n",
              "      <td>0.138570</td>\n",
              "      <td>-0.023534</td>\n",
              "      <td>-0.036866</td>\n",
              "      <td>1.000000</td>\n",
              "      <td>0.114107</td>\n",
              "      <td>0.260039</td>\n",
              "      <td>0.069443</td>\n",
              "      <td>0.098210</td>\n",
              "      <td>0.280788</td>\n",
              "      <td>0.206209</td>\n",
              "      <td>0.088962</td>\n",
              "      <td>0.014681</td>\n",
              "      <td>0.069125</td>\n",
              "      <td>0.092868</td>\n",
              "    </tr>\n",
              "    <tr>\n",
              "      <th>prevalentStroke</th>\n",
              "      <td>-0.034277</td>\n",
              "      <td>0.049756</td>\n",
              "      <td>-0.027410</td>\n",
              "      <td>-0.047461</td>\n",
              "      <td>0.114107</td>\n",
              "      <td>1.000000</td>\n",
              "      <td>0.059703</td>\n",
              "      <td>0.013866</td>\n",
              "      <td>0.002418</td>\n",
              "      <td>0.061712</td>\n",
              "      <td>0.059594</td>\n",
              "      <td>0.029168</td>\n",
              "      <td>-0.018617</td>\n",
              "      <td>0.021427</td>\n",
              "      <td>0.052014</td>\n",
              "    </tr>\n",
              "    <tr>\n",
              "      <th>prevalentHyp</th>\n",
              "      <td>0.022882</td>\n",
              "      <td>0.313543</td>\n",
              "      <td>-0.082675</td>\n",
              "      <td>-0.080570</td>\n",
              "      <td>0.260039</td>\n",
              "      <td>0.059703</td>\n",
              "      <td>1.000000</td>\n",
              "      <td>0.082510</td>\n",
              "      <td>0.162100</td>\n",
              "      <td>0.699240</td>\n",
              "      <td>0.612037</td>\n",
              "      <td>0.304790</td>\n",
              "      <td>0.154375</td>\n",
              "      <td>0.086143</td>\n",
              "      <td>0.169136</td>\n",
              "    </tr>\n",
              "    <tr>\n",
              "      <th>diabetes</th>\n",
              "      <td>0.004331</td>\n",
              "      <td>0.111085</td>\n",
              "      <td>-0.054464</td>\n",
              "      <td>-0.048959</td>\n",
              "      <td>0.069443</td>\n",
              "      <td>0.013866</td>\n",
              "      <td>0.082510</td>\n",
              "      <td>1.000000</td>\n",
              "      <td>0.069232</td>\n",
              "      <td>0.108990</td>\n",
              "      <td>0.058115</td>\n",
              "      <td>0.090249</td>\n",
              "      <td>0.046822</td>\n",
              "      <td>0.617189</td>\n",
              "      <td>0.100006</td>\n",
              "    </tr>\n",
              "    <tr>\n",
              "      <th>totChol</th>\n",
              "      <td>-0.015428</td>\n",
              "      <td>0.281156</td>\n",
              "      <td>-0.011575</td>\n",
              "      <td>-0.026606</td>\n",
              "      <td>0.098210</td>\n",
              "      <td>0.002418</td>\n",
              "      <td>0.162100</td>\n",
              "      <td>0.069232</td>\n",
              "      <td>1.000000</td>\n",
              "      <td>0.210685</td>\n",
              "      <td>0.165101</td>\n",
              "      <td>0.113206</td>\n",
              "      <td>0.091487</td>\n",
              "      <td>0.066703</td>\n",
              "      <td>0.106473</td>\n",
              "    </tr>\n",
              "    <tr>\n",
              "      <th>sysBP</th>\n",
              "      <td>0.030634</td>\n",
              "      <td>0.405238</td>\n",
              "      <td>-0.130417</td>\n",
              "      <td>-0.105104</td>\n",
              "      <td>0.280788</td>\n",
              "      <td>0.061712</td>\n",
              "      <td>0.699240</td>\n",
              "      <td>0.108990</td>\n",
              "      <td>0.210685</td>\n",
              "      <td>1.000000</td>\n",
              "      <td>0.783586</td>\n",
              "      <td>0.340782</td>\n",
              "      <td>0.180690</td>\n",
              "      <td>0.134609</td>\n",
              "      <td>0.217419</td>\n",
              "    </tr>\n",
              "    <tr>\n",
              "      <th>diaBP</th>\n",
              "      <td>0.004233</td>\n",
              "      <td>0.231322</td>\n",
              "      <td>-0.056034</td>\n",
              "      <td>-0.067483</td>\n",
              "      <td>0.206209</td>\n",
              "      <td>0.059594</td>\n",
              "      <td>0.612037</td>\n",
              "      <td>0.058115</td>\n",
              "      <td>0.165101</td>\n",
              "      <td>0.783586</td>\n",
              "      <td>1.000000</td>\n",
              "      <td>0.391291</td>\n",
              "      <td>0.173350</td>\n",
              "      <td>0.074630</td>\n",
              "      <td>0.139005</td>\n",
              "    </tr>\n",
              "    <tr>\n",
              "      <th>BMI</th>\n",
              "      <td>0.033410</td>\n",
              "      <td>0.141001</td>\n",
              "      <td>-0.131304</td>\n",
              "      <td>-0.095310</td>\n",
              "      <td>0.088962</td>\n",
              "      <td>0.029168</td>\n",
              "      <td>0.304790</td>\n",
              "      <td>0.090249</td>\n",
              "      <td>0.113206</td>\n",
              "      <td>0.340782</td>\n",
              "      <td>0.391291</td>\n",
              "      <td>1.000000</td>\n",
              "      <td>0.076848</td>\n",
              "      <td>0.091094</td>\n",
              "      <td>0.075950</td>\n",
              "    </tr>\n",
              "    <tr>\n",
              "      <th>heartRate</th>\n",
              "      <td>0.027590</td>\n",
              "      <td>0.013947</td>\n",
              "      <td>-0.061501</td>\n",
              "      <td>0.055770</td>\n",
              "      <td>0.014681</td>\n",
              "      <td>-0.018617</td>\n",
              "      <td>0.154375</td>\n",
              "      <td>0.046822</td>\n",
              "      <td>0.091487</td>\n",
              "      <td>0.180690</td>\n",
              "      <td>0.173350</td>\n",
              "      <td>0.076848</td>\n",
              "      <td>1.000000</td>\n",
              "      <td>0.089920</td>\n",
              "      <td>0.018747</td>\n",
              "    </tr>\n",
              "    <tr>\n",
              "      <th>glucose</th>\n",
              "      <td>0.011366</td>\n",
              "      <td>0.108882</td>\n",
              "      <td>-0.034099</td>\n",
              "      <td>-0.064029</td>\n",
              "      <td>0.069125</td>\n",
              "      <td>0.021427</td>\n",
              "      <td>0.086143</td>\n",
              "      <td>0.617189</td>\n",
              "      <td>0.066703</td>\n",
              "      <td>0.134609</td>\n",
              "      <td>0.074630</td>\n",
              "      <td>0.091094</td>\n",
              "      <td>0.089920</td>\n",
              "      <td>1.000000</td>\n",
              "      <td>0.133286</td>\n",
              "    </tr>\n",
              "    <tr>\n",
              "      <th>TenYearCHD</th>\n",
              "      <td>0.010901</td>\n",
              "      <td>0.234423</td>\n",
              "      <td>-0.062442</td>\n",
              "      <td>0.059797</td>\n",
              "      <td>0.092868</td>\n",
              "      <td>0.052014</td>\n",
              "      <td>0.169136</td>\n",
              "      <td>0.100006</td>\n",
              "      <td>0.106473</td>\n",
              "      <td>0.217419</td>\n",
              "      <td>0.139005</td>\n",
              "      <td>0.075950</td>\n",
              "      <td>0.018747</td>\n",
              "      <td>0.133286</td>\n",
              "      <td>1.000000</td>\n",
              "    </tr>\n",
              "  </tbody>\n",
              "</table>\n",
              "</div>\n",
              "      <button class=\"colab-df-convert\" onclick=\"convertToInteractive('df-98c3acd1-fe8b-43e0-8c6a-c526baf3b317')\"\n",
              "              title=\"Convert this dataframe to an interactive table.\"\n",
              "              style=\"display:none;\">\n",
              "        \n",
              "  <svg xmlns=\"http://www.w3.org/2000/svg\" height=\"24px\"viewBox=\"0 0 24 24\"\n",
              "       width=\"24px\">\n",
              "    <path d=\"M0 0h24v24H0V0z\" fill=\"none\"/>\n",
              "    <path d=\"M18.56 5.44l.94 2.06.94-2.06 2.06-.94-2.06-.94-.94-2.06-.94 2.06-2.06.94zm-11 1L8.5 8.5l.94-2.06 2.06-.94-2.06-.94L8.5 2.5l-.94 2.06-2.06.94zm10 10l.94 2.06.94-2.06 2.06-.94-2.06-.94-.94-2.06-.94 2.06-2.06.94z\"/><path d=\"M17.41 7.96l-1.37-1.37c-.4-.4-.92-.59-1.43-.59-.52 0-1.04.2-1.43.59L10.3 9.45l-7.72 7.72c-.78.78-.78 2.05 0 2.83L4 21.41c.39.39.9.59 1.41.59.51 0 1.02-.2 1.41-.59l7.78-7.78 2.81-2.81c.8-.78.8-2.07 0-2.86zM5.41 20L4 18.59l7.72-7.72 1.47 1.35L5.41 20z\"/>\n",
              "  </svg>\n",
              "      </button>\n",
              "      \n",
              "  <style>\n",
              "    .colab-df-container {\n",
              "      display:flex;\n",
              "      flex-wrap:wrap;\n",
              "      gap: 12px;\n",
              "    }\n",
              "\n",
              "    .colab-df-convert {\n",
              "      background-color: #E8F0FE;\n",
              "      border: none;\n",
              "      border-radius: 50%;\n",
              "      cursor: pointer;\n",
              "      display: none;\n",
              "      fill: #1967D2;\n",
              "      height: 32px;\n",
              "      padding: 0 0 0 0;\n",
              "      width: 32px;\n",
              "    }\n",
              "\n",
              "    .colab-df-convert:hover {\n",
              "      background-color: #E2EBFA;\n",
              "      box-shadow: 0px 1px 2px rgba(60, 64, 67, 0.3), 0px 1px 3px 1px rgba(60, 64, 67, 0.15);\n",
              "      fill: #174EA6;\n",
              "    }\n",
              "\n",
              "    [theme=dark] .colab-df-convert {\n",
              "      background-color: #3B4455;\n",
              "      fill: #D2E3FC;\n",
              "    }\n",
              "\n",
              "    [theme=dark] .colab-df-convert:hover {\n",
              "      background-color: #434B5C;\n",
              "      box-shadow: 0px 1px 3px 1px rgba(0, 0, 0, 0.15);\n",
              "      filter: drop-shadow(0px 1px 2px rgba(0, 0, 0, 0.3));\n",
              "      fill: #FFFFFF;\n",
              "    }\n",
              "  </style>\n",
              "\n",
              "      <script>\n",
              "        const buttonEl =\n",
              "          document.querySelector('#df-98c3acd1-fe8b-43e0-8c6a-c526baf3b317 button.colab-df-convert');\n",
              "        buttonEl.style.display =\n",
              "          google.colab.kernel.accessAllowed ? 'block' : 'none';\n",
              "\n",
              "        async function convertToInteractive(key) {\n",
              "          const element = document.querySelector('#df-98c3acd1-fe8b-43e0-8c6a-c526baf3b317');\n",
              "          const dataTable =\n",
              "            await google.colab.kernel.invokeFunction('convertToInteractive',\n",
              "                                                     [key], {});\n",
              "          if (!dataTable) return;\n",
              "\n",
              "          const docLinkHtml = 'Like what you see? Visit the ' +\n",
              "            '<a target=\"_blank\" href=https://colab.research.google.com/notebooks/data_table.ipynb>data table notebook</a>'\n",
              "            + ' to learn more about interactive tables.';\n",
              "          element.innerHTML = '';\n",
              "          dataTable['output_type'] = 'display_data';\n",
              "          await google.colab.output.renderOutput(dataTable, element);\n",
              "          const docLink = document.createElement('div');\n",
              "          docLink.innerHTML = docLinkHtml;\n",
              "          element.appendChild(docLink);\n",
              "        }\n",
              "      </script>\n",
              "    </div>\n",
              "  </div>\n",
              "  "
            ]
          },
          "metadata": {},
          "execution_count": 38
        }
      ]
    },
    {
      "cell_type": "code",
      "metadata": {
        "colab": {
          "base_uri": "https://localhost:8080/",
          "height": 515
        },
        "id": "hyszJGwJ_JQu",
        "outputId": "950ef80a-65d4-45ed-dc79-9c421cccd640"
      },
      "source": [
        "#visualization of the correlation in the heatmap\n",
        "plt.figure(figsize=(15, 7))\n",
        "sns.heatmap(data.corr(), annot=True)\n",
        "plt.title('Correlation between all the vaibles', size=16)\n",
        "plt.show()"
      ],
      "execution_count": null,
      "outputs": [
        {
          "output_type": "display_data",
          "data": {
            "text/plain": [
              "<Figure size 1080x504 with 2 Axes>"
            ],
            "image/png": "[encoded data removed]"
          },
          "metadata": {
            "needs_background": "light"
          }
        }
      ]
    },
    {
      "cell_type": "markdown",
      "source": [
        "# **Data Transformation**"
      ],
      "metadata": {
        "id": "unk5hmz6256n"
      }
    },
    {
      "cell_type": "code",
      "source": [
        "# Adding pulse pressure as a column\n",
        "data['pulsePressure'] = data['sysBP'] - data['diaBP']\n",
        "# Dropping the systolic and diastolic BP columns\n",
        "data.drop(['sysBP','diaBP'], axis = 1, inplace = True)\n",
        "# Dropping the 'is_smoking' column\n",
        "data.drop('is_smoking', axis = 1, inplace = True)"
      ],
      "metadata": {
        "id": "QNAXp07mf4XK"
      },
      "execution_count": null,
      "outputs": []
    },
    {
      "cell_type": "code",
      "source": [
        "# Creating dummy variables for 'sex'\n",
        "data = pd.get_dummies(data , columns = ['sex'])"
      ],
      "metadata": {
        "id": "oUwjgY4_f4a6"
      },
      "execution_count": null,
      "outputs": []
    },
    {
      "cell_type": "code",
      "source": [
        "data['TenYearCHD'].value_counts()"
      ],
      "metadata": {
        "colab": {
          "base_uri": "https://localhost:8080/"
        },
        "id": "SiUIP7v8f4eY",
        "outputId": "1a03b5cf-86f6-4e50-c7ab-d48e68438968"
      },
      "execution_count": null,
      "outputs": [
        {
          "output_type": "execute_result",
          "data": {
            "text/plain": [
              "0    2483\n",
              "1     444\n",
              "Name: TenYearCHD, dtype: int64"
            ]
          },
          "metadata": {},
          "execution_count": 42
        }
      ]
    },
    {
      "cell_type": "markdown",
      "source": [
        "## **There exits a clear imbalance in the classes. Hence, we will use SMOTE to oversample the classes which are in less number.**"
      ],
      "metadata": {
        "id": "WqRm-W9j3Ext"
      }
    },
    {
      "cell_type": "code",
      "source": [
        "# Importing SMOTE\n",
        "from imblearn.over_sampling import SMOTE"
      ],
      "metadata": {
        "id": "gs2RWeaof4iX"
      },
      "execution_count": null,
      "outputs": []
    },
    {
      "cell_type": "code",
      "source": [
        "# Creating an instance for SMOTE\n",
        "smote = SMOTE()"
      ],
      "metadata": {
        "id": "9Yvna1Iuf4m6"
      },
      "execution_count": null,
      "outputs": []
    },
    {
      "cell_type": "markdown",
      "source": [
        "## **Dependent and Independent Variables**"
      ],
      "metadata": {
        "id": "3GfVC3193ICG"
      }
    },
    {
      "cell_type": "code",
      "source": [
        "# Dividing data into independent (X) and dependent (y) variables\n",
        "independent_variables = ['age', 'education', 'cigsPerDay', 'BPMeds', 'prevalentStroke',\n",
        "       'prevalentHyp', 'diabetes', 'totChol', 'BMI', 'heartRate', 'glucose', 'pulsePressure', 'sex_F', 'sex_M']\n",
        "dependent_variable = 'TenYearCHD'\n",
        "X = data.loc[:, independent_variables]\n",
        "y = data[dependent_variable]"
      ],
      "metadata": {
        "id": "POB4KQ37f4r9"
      },
      "execution_count": null,
      "outputs": []
    },
    {
      "cell_type": "code",
      "source": [
        "# The rows and columns of X and y\n",
        "print(f'X has {X.shape[0]} rows and {X.shape[1]} columns')\n",
        "print(f'y has {y.shape[0]} rows')"
      ],
      "metadata": {
        "colab": {
          "base_uri": "https://localhost:8080/"
        },
        "id": "V7ytbcDkf4uv",
        "outputId": "4f1f3f19-7736-4d26-992e-ede1d98d0fb9"
      },
      "execution_count": null,
      "outputs": [
        {
          "output_type": "stream",
          "name": "stdout",
          "text": [
            "X has 2927 rows and 14 columns\n",
            "y has 2927 rows\n"
          ]
        }
      ]
    },
    {
      "cell_type": "code",
      "source": [
        "# Using SMOTE to oversample\n",
        "X,y = smote.fit_resample(X,y)"
      ],
      "metadata": {
        "id": "HOBvpHUbf40g"
      },
      "execution_count": null,
      "outputs": []
    },
    {
      "cell_type": "code",
      "source": [
        "# Counts of each classes after oversampling\n",
        "print(list(y).count(1))\n",
        "print(list(y).count(0))"
      ],
      "metadata": {
        "colab": {
          "base_uri": "https://localhost:8080/"
        },
        "id": "yru1nMabgPPE",
        "outputId": "97e61e5d-213c-492e-9c14-8729f7e2ac20"
      },
      "execution_count": null,
      "outputs": [
        {
          "output_type": "stream",
          "name": "stdout",
          "text": [
            "2483\n",
            "2483\n"
          ]
        }
      ]
    },
    {
      "cell_type": "code",
      "source": [
        "# Rows in the dataset after oversampling\n",
        "print(f'Number of rows in X is {len(X)}')\n",
        "print(f'Number of rows in y is {len(y)}')"
      ],
      "metadata": {
        "colab": {
          "base_uri": "https://localhost:8080/"
        },
        "id": "nhkzPbNsgPTR",
        "outputId": "bf1474d3-9500-43d2-8259-2f74d2663c15"
      },
      "execution_count": null,
      "outputs": [
        {
          "output_type": "stream",
          "name": "stdout",
          "text": [
            "Number of rows in X is 4966\n",
            "Number of rows in y is 4966\n"
          ]
        }
      ]
    },
    {
      "cell_type": "markdown",
      "source": [
        "### **The numbers in the data have different ranges, hence, we will scale the data using the Min Max Scaler**"
      ],
      "metadata": {
        "id": "3G-0wkYx3ReI"
      }
    },
    {
      "cell_type": "code",
      "source": [
        "# Importing Min Max Scaler\n",
        "from sklearn.preprocessing import MinMaxScaler"
      ],
      "metadata": {
        "id": "m6Lo7Bt0gThI"
      },
      "execution_count": null,
      "outputs": []
    },
    {
      "cell_type": "code",
      "source": [
        "# Creating an instance for Min Max Scaler\n",
        "scaler = MinMaxScaler()"
      ],
      "metadata": {
        "id": "2HsbPnPOgTlQ"
      },
      "execution_count": null,
      "outputs": []
    },
    {
      "cell_type": "code",
      "source": [
        "# Scaling the independent variables\n",
        "X = scaler.fit_transform(X)"
      ],
      "metadata": {
        "id": "snmSkr_Jf4-6"
      },
      "execution_count": null,
      "outputs": []
    },
    {
      "cell_type": "markdown",
      "metadata": {
        "id": "DZSxk0WzICa4"
      },
      "source": [
        "# **Model Implementation**\n",
        "\n",
        "\n"
      ]
    },
    {
      "cell_type": "markdown",
      "metadata": {
        "id": "gr2dydWloS78"
      },
      "source": [
        "**1. Decision Tree Classifier**\n",
        "\n",
        "**2. Logistic Regression**\n",
        "\n",
        "**3. KNeighbors Classifier**\n",
        "\n",
        "**4. Naive Bayes Classifier**\n",
        "\n",
        "**5. SVM Classifier**\n",
        "\n",
        "**6. XGB Classifier**\n",
        "\n",
        "**7. Random Forest Classifier (Tuning)**"
      ]
    },
    {
      "cell_type": "markdown",
      "metadata": {
        "id": "NLACELorIHV8"
      },
      "source": [
        "## **Libraries required for Model**"
      ]
    },
    {
      "cell_type": "code",
      "source": [
        "# Importing libraries for modelling and evaluation\n",
        "from sklearn.tree import DecisionTreeClassifier\n",
        "from sklearn.linear_model import LogisticRegression\n",
        "from sklearn.neighbors import KNeighborsClassifier\n",
        "from sklearn.naive_bayes import GaussianNB\n",
        "from sklearn.svm import SVC\n",
        "from xgboost import XGBClassifier\n",
        "from sklearn.ensemble import RandomForestClassifier\n",
        "from sklearn.metrics import accuracy_score, precision_score, recall_score, f1_score, classification_report, confusion_matrix, roc_auc_score, roc_curve"
      ],
      "metadata": {
        "id": "9foC5_X43cRO"
      },
      "execution_count": null,
      "outputs": []
    },
    {
      "cell_type": "markdown",
      "source": [
        "**Train and Test data sets**"
      ],
      "metadata": {
        "id": "M8a6Hh_v3nX_"
      }
    },
    {
      "cell_type": "code",
      "source": [
        "# Importing packages to split data into train and test\n",
        "from sklearn.model_selection import train_test_split"
      ],
      "metadata": {
        "id": "iG4veWKp3cdU"
      },
      "execution_count": null,
      "outputs": []
    },
    {
      "cell_type": "code",
      "source": [
        "# Train Test split \n",
        "X_train, X_test, y_train, y_test = train_test_split(X, y, test_size = 0.2, random_state = 10)"
      ],
      "metadata": {
        "id": "nz3aPpjj3chq"
      },
      "execution_count": null,
      "outputs": []
    },
    {
      "cell_type": "code",
      "source": [
        "# Creating a dictionary for models\n",
        "models = {'Decision Tree Classifier' : DecisionTreeClassifier(),\n",
        "          'Logistic Regression' : LogisticRegression(),\n",
        "          'KNN' : KNeighborsClassifier(),\n",
        "          'Naive Bayes' : GaussianNB(),\n",
        "          'SVC' : SVC(probability=True),\n",
        "          'XGB Classifier' : XGBClassifier(),\n",
        "          'Random Forest' : RandomForestClassifier()}"
      ],
      "metadata": {
        "id": "O7iFL4qU3ckR"
      },
      "execution_count": null,
      "outputs": []
    },
    {
      "cell_type": "code",
      "source": [
        "# Creating a function for model building\n",
        "def model_build(X_train, y_train, X_test, y_test, model_dict):\n",
        "  ''' Returns a dataframe with model name and accuracy scores, train confusion matrix, test confusion matrix and the values \n",
        "  for the roc curve '''\n",
        "  \n",
        "  # Creating a dataframe\n",
        "  model_df = pd.DataFrame(columns=['Model', 'Train Accuracy', 'Test Accuracy','Train Precision', 'Test Precision',\n",
        "                                     'Train Recall', 'Test Recall', 'Train ROC AUC', 'Test ROC AUC'])\n",
        "  \n",
        "  # Creating necessary dictionaries\n",
        "  train_confusion_matrix = {}  \n",
        "  test_confusion_matrix = {}  \n",
        "  curve = {}\n",
        "  \n",
        "  \n",
        "  # Model building\n",
        "  for n, m in model_dict.items():\n",
        "    model = m\n",
        "    model.fit(X_train, y_train)\n",
        "    train_preds = model.predict(X_train)\n",
        "    test_preds = model.predict(X_test)\n",
        "\n",
        "    test_probs = model.predict_proba(X_test)\n",
        "    test_probs = test_probs[:,1]\n",
        "\n",
        "    # Evaluation\n",
        "    train_accuracy = accuracy_score(y_train, train_preds)\n",
        "    test_accuracy = accuracy_score(y_test, test_preds)\n",
        "    train_precision = precision_score(y_train, train_preds)\n",
        "    test_precision = precision_score(y_test, test_preds)\n",
        "    train_recall = recall_score(y_train, train_preds)\n",
        "    test_recall = recall_score(y_test, test_preds)\n",
        "    train_roc_auc = roc_auc_score(y_train, train_preds)\n",
        "    test_roc_auc = roc_auc_score(y_test, test_preds)\n",
        "\n",
        "    # Updating the dataframe for each iteration\n",
        "    model_df = model_df.append({'Model': n,\n",
        "                               'Train Accuracy' : train_accuracy,\n",
        "                               'Test Accuracy': test_accuracy,\n",
        "                               'Train Precision' : train_precision,\n",
        "                               'Test Precision' : test_precision,\n",
        "                               'Train Recall' : train_recall,\n",
        "                               'Test Recall' : test_recall,\n",
        "                               'Train ROC AUC' : train_roc_auc,\n",
        "                               'Test ROC AUC' : test_roc_auc}, ignore_index = True)\n",
        "    \n",
        "    # Updating the dictionary for each iteration\n",
        "    train_confusion_matrix[n] = confusion_matrix(y_train, train_preds)\n",
        "    test_confusion_matrix[n] = confusion_matrix(y_test, test_preds)\n",
        "\n",
        "    # ROC Curve values\n",
        "    fpr, tpr, _ = roc_curve(y_test, test_probs)\n",
        "    curve[n] = (fpr,tpr)\n",
        "\n",
        "    \n",
        "\n",
        "  return model_df, train_confusion_matrix, test_confusion_matrix, curve"
      ],
      "metadata": {
        "id": "ill4ZFlQ37yp"
      },
      "execution_count": null,
      "outputs": []
    },
    {
      "cell_type": "code",
      "source": [
        "# Using the model function to understand the scores of different models\n",
        "model_table, train_cm, test_cm, curve= model_build(X_train, y_train, X_test, y_test, models)"
      ],
      "metadata": {
        "id": "bKzPX8eQ373G"
      },
      "execution_count": null,
      "outputs": []
    },
    {
      "cell_type": "code",
      "source": [
        "# Models and their scores\n",
        "model_table"
      ],
      "metadata": {
        "colab": {
          "base_uri": "https://localhost:8080/",
          "height": 269
        },
        "id": "_5eC8ac5375f",
        "outputId": "1d184d31-3bd2-4b2a-ce26-18997c91279f"
      },
      "execution_count": null,
      "outputs": [
        {
          "output_type": "execute_result",
          "data": {
            "text/plain": [
              "                      Model  Train Accuracy  Test Accuracy  Train Precision  \\\n",
              "0  Decision Tree Classifier        1.000000       0.819920         1.000000   \n",
              "1       Logistic Regression        0.753273       0.741449         0.791813   \n",
              "2                       KNN        0.880161       0.811871         0.867417   \n",
              "3               Naive Bayes        0.646274       0.651911         0.745923   \n",
              "4                       SVC        0.778197       0.742455         0.826683   \n",
              "5            XGB Classifier        0.879658       0.849095         0.944840   \n",
              "6             Random Forest        1.000000       0.894366         1.000000   \n",
              "\n",
              "   Test Precision  Train Recall  Test Recall  Train ROC AUC  Test ROC AUC  \n",
              "0        0.808712      1.000000     0.845545       1.000000      0.819500  \n",
              "1        0.800971      0.684530     0.653465       0.752997      0.742888  \n",
              "2        0.812992      0.896360     0.817822       0.880226      0.811774  \n",
              "3        0.777003      0.439333     0.441584       0.645444      0.655352  \n",
              "4        0.808933      0.701719     0.645545       0.777891      0.744040  \n",
              "5        0.931873      0.805359     0.758416       0.879360      0.850578  \n",
              "6        0.929185      1.000000     0.857426       1.000000      0.894971  "
            ],
            "text/html": [
              "\n",
              "  <div id=\"df-d3afb1c2-93d1-4a0f-ac6f-4aafe9d33fc2\">\n",
              "    <div class=\"colab-df-container\">\n",
              "      <div>\n",
              "<style scoped>\n",
              "    .dataframe tbody tr th:only-of-type {\n",
              "        vertical-align: middle;\n",
              "    }\n",
              "\n",
              "    .dataframe tbody tr th {\n",
              "        vertical-align: top;\n",
              "    }\n",
              "\n",
              "    .dataframe thead th {\n",
              "        text-align: right;\n",
              "    }\n",
              "</style>\n",
              "<table border=\"1\" class=\"dataframe\">\n",
              "  <thead>\n",
              "    <tr style=\"text-align: right;\">\n",
              "      <th></th>\n",
              "      <th>Model</th>\n",
              "      <th>Train Accuracy</th>\n",
              "      <th>Test Accuracy</th>\n",
              "      <th>Train Precision</th>\n",
              "      <th>Test Precision</th>\n",
              "      <th>Train Recall</th>\n",
              "      <th>Test Recall</th>\n",
              "      <th>Train ROC AUC</th>\n",
              "      <th>Test ROC AUC</th>\n",
              "    </tr>\n",
              "  </thead>\n",
              "  <tbody>\n",
              "    <tr>\n",
              "      <th>0</th>\n",
              "      <td>Decision Tree Classifier</td>\n",
              "      <td>1.000000</td>\n",
              "      <td>0.819920</td>\n",
              "      <td>1.000000</td>\n",
              "      <td>0.808712</td>\n",
              "      <td>1.000000</td>\n",
              "      <td>0.845545</td>\n",
              "      <td>1.000000</td>\n",
              "      <td>0.819500</td>\n",
              "    </tr>\n",
              "    <tr>\n",
              "      <th>1</th>\n",
              "      <td>Logistic Regression</td>\n",
              "      <td>0.753273</td>\n",
              "      <td>0.741449</td>\n",
              "      <td>0.791813</td>\n",
              "      <td>0.800971</td>\n",
              "      <td>0.684530</td>\n",
              "      <td>0.653465</td>\n",
              "      <td>0.752997</td>\n",
              "      <td>0.742888</td>\n",
              "    </tr>\n",
              "    <tr>\n",
              "      <th>2</th>\n",
              "      <td>KNN</td>\n",
              "      <td>0.880161</td>\n",
              "      <td>0.811871</td>\n",
              "      <td>0.867417</td>\n",
              "      <td>0.812992</td>\n",
              "      <td>0.896360</td>\n",
              "      <td>0.817822</td>\n",
              "      <td>0.880226</td>\n",
              "      <td>0.811774</td>\n",
              "    </tr>\n",
              "    <tr>\n",
              "      <th>3</th>\n",
              "      <td>Naive Bayes</td>\n",
              "      <td>0.646274</td>\n",
              "      <td>0.651911</td>\n",
              "      <td>0.745923</td>\n",
              "      <td>0.777003</td>\n",
              "      <td>0.439333</td>\n",
              "      <td>0.441584</td>\n",
              "      <td>0.645444</td>\n",
              "      <td>0.655352</td>\n",
              "    </tr>\n",
              "    <tr>\n",
              "      <th>4</th>\n",
              "      <td>SVC</td>\n",
              "      <td>0.778197</td>\n",
              "      <td>0.742455</td>\n",
              "      <td>0.826683</td>\n",
              "      <td>0.808933</td>\n",
              "      <td>0.701719</td>\n",
              "      <td>0.645545</td>\n",
              "      <td>0.777891</td>\n",
              "      <td>0.744040</td>\n",
              "    </tr>\n",
              "    <tr>\n",
              "      <th>5</th>\n",
              "      <td>XGB Classifier</td>\n",
              "      <td>0.879658</td>\n",
              "      <td>0.849095</td>\n",
              "      <td>0.944840</td>\n",
              "      <td>0.931873</td>\n",
              "      <td>0.805359</td>\n",
              "      <td>0.758416</td>\n",
              "      <td>0.879360</td>\n",
              "      <td>0.850578</td>\n",
              "    </tr>\n",
              "    <tr>\n",
              "      <th>6</th>\n",
              "      <td>Random Forest</td>\n",
              "      <td>1.000000</td>\n",
              "      <td>0.894366</td>\n",
              "      <td>1.000000</td>\n",
              "      <td>0.929185</td>\n",
              "      <td>1.000000</td>\n",
              "      <td>0.857426</td>\n",
              "      <td>1.000000</td>\n",
              "      <td>0.894971</td>\n",
              "    </tr>\n",
              "  </tbody>\n",
              "</table>\n",
              "</div>\n",
              "      <button class=\"colab-df-convert\" onclick=\"convertToInteractive('df-d3afb1c2-93d1-4a0f-ac6f-4aafe9d33fc2')\"\n",
              "              title=\"Convert this dataframe to an interactive table.\"\n",
              "              style=\"display:none;\">\n",
              "        \n",
              "  <svg xmlns=\"http://www.w3.org/2000/svg\" height=\"24px\"viewBox=\"0 0 24 24\"\n",
              "       width=\"24px\">\n",
              "    <path d=\"M0 0h24v24H0V0z\" fill=\"none\"/>\n",
              "    <path d=\"M18.56 5.44l.94 2.06.94-2.06 2.06-.94-2.06-.94-.94-2.06-.94 2.06-2.06.94zm-11 1L8.5 8.5l.94-2.06 2.06-.94-2.06-.94L8.5 2.5l-.94 2.06-2.06.94zm10 10l.94 2.06.94-2.06 2.06-.94-2.06-.94-.94-2.06-.94 2.06-2.06.94z\"/><path d=\"M17.41 7.96l-1.37-1.37c-.4-.4-.92-.59-1.43-.59-.52 0-1.04.2-1.43.59L10.3 9.45l-7.72 7.72c-.78.78-.78 2.05 0 2.83L4 21.41c.39.39.9.59 1.41.59.51 0 1.02-.2 1.41-.59l7.78-7.78 2.81-2.81c.8-.78.8-2.07 0-2.86zM5.41 20L4 18.59l7.72-7.72 1.47 1.35L5.41 20z\"/>\n",
              "  </svg>\n",
              "      </button>\n",
              "      \n",
              "  <style>\n",
              "    .colab-df-container {\n",
              "      display:flex;\n",
              "      flex-wrap:wrap;\n",
              "      gap: 12px;\n",
              "    }\n",
              "\n",
              "    .colab-df-convert {\n",
              "      background-color: #E8F0FE;\n",
              "      border: none;\n",
              "      border-radius: 50%;\n",
              "      cursor: pointer;\n",
              "      display: none;\n",
              "      fill: #1967D2;\n",
              "      height: 32px;\n",
              "      padding: 0 0 0 0;\n",
              "      width: 32px;\n",
              "    }\n",
              "\n",
              "    .colab-df-convert:hover {\n",
              "      background-color: #E2EBFA;\n",
              "      box-shadow: 0px 1px 2px rgba(60, 64, 67, 0.3), 0px 1px 3px 1px rgba(60, 64, 67, 0.15);\n",
              "      fill: #174EA6;\n",
              "    }\n",
              "\n",
              "    [theme=dark] .colab-df-convert {\n",
              "      background-color: #3B4455;\n",
              "      fill: #D2E3FC;\n",
              "    }\n",
              "\n",
              "    [theme=dark] .colab-df-convert:hover {\n",
              "      background-color: #434B5C;\n",
              "      box-shadow: 0px 1px 3px 1px rgba(0, 0, 0, 0.15);\n",
              "      filter: drop-shadow(0px 1px 2px rgba(0, 0, 0, 0.3));\n",
              "      fill: #FFFFFF;\n",
              "    }\n",
              "  </style>\n",
              "\n",
              "      <script>\n",
              "        const buttonEl =\n",
              "          document.querySelector('#df-d3afb1c2-93d1-4a0f-ac6f-4aafe9d33fc2 button.colab-df-convert');\n",
              "        buttonEl.style.display =\n",
              "          google.colab.kernel.accessAllowed ? 'block' : 'none';\n",
              "\n",
              "        async function convertToInteractive(key) {\n",
              "          const element = document.querySelector('#df-d3afb1c2-93d1-4a0f-ac6f-4aafe9d33fc2');\n",
              "          const dataTable =\n",
              "            await google.colab.kernel.invokeFunction('convertToInteractive',\n",
              "                                                     [key], {});\n",
              "          if (!dataTable) return;\n",
              "\n",
              "          const docLinkHtml = 'Like what you see? Visit the ' +\n",
              "            '<a target=\"_blank\" href=https://colab.research.google.com/notebooks/data_table.ipynb>data table notebook</a>'\n",
              "            + ' to learn more about interactive tables.';\n",
              "          element.innerHTML = '';\n",
              "          dataTable['output_type'] = 'display_data';\n",
              "          await google.colab.output.renderOutput(dataTable, element);\n",
              "          const docLink = document.createElement('div');\n",
              "          docLink.innerHTML = docLinkHtml;\n",
              "          element.appendChild(docLink);\n",
              "        }\n",
              "      </script>\n",
              "    </div>\n",
              "  </div>\n",
              "  "
            ]
          },
          "metadata": {},
          "execution_count": 59
        }
      ]
    },
    {
      "cell_type": "code",
      "source": [
        "# Train confusion matrix\n",
        "for name, matrix in train_cm.items():\n",
        "  print(f'Model : {name}')\n",
        "  print(matrix)\n",
        "  print('**'*10)"
      ],
      "metadata": {
        "colab": {
          "base_uri": "https://localhost:8080/"
        },
        "id": "i2Y0YOD5EtF9",
        "outputId": "2309ed1d-ef41-498b-edff-abeecf976e7c"
      },
      "execution_count": null,
      "outputs": [
        {
          "output_type": "stream",
          "name": "stdout",
          "text": [
            "Model : Decision Tree Classifier\n",
            "[[1994    0]\n",
            " [   0 1978]]\n",
            "********************\n",
            "Model : Logistic Regression\n",
            "[[1638  356]\n",
            " [ 624 1354]]\n",
            "********************\n",
            "Model : KNN\n",
            "[[1723  271]\n",
            " [ 205 1773]]\n",
            "********************\n",
            "Model : Naive Bayes\n",
            "[[1698  296]\n",
            " [1109  869]]\n",
            "********************\n",
            "Model : SVC\n",
            "[[1703  291]\n",
            " [ 590 1388]]\n",
            "********************\n",
            "Model : XGB Classifier\n",
            "[[1901   93]\n",
            " [ 385 1593]]\n",
            "********************\n",
            "Model : Random Forest\n",
            "[[1994    0]\n",
            " [   0 1978]]\n",
            "********************\n"
          ]
        }
      ]
    },
    {
      "cell_type": "code",
      "source": [
        "# Test confusion matrix\n",
        "for name, matrix in test_cm.items():\n",
        "  print(f'Model : {name}')\n",
        "  print(matrix)\n",
        "  print('**'*10)"
      ],
      "metadata": {
        "colab": {
          "base_uri": "https://localhost:8080/"
        },
        "id": "RmjFY2ldEtLL",
        "outputId": "24f3b464-32e2-4c22-af53-6fa94414f254"
      },
      "execution_count": null,
      "outputs": [
        {
          "output_type": "stream",
          "name": "stdout",
          "text": [
            "Model : Decision Tree Classifier\n",
            "[[388 101]\n",
            " [ 78 427]]\n",
            "********************\n",
            "Model : Logistic Regression\n",
            "[[407  82]\n",
            " [175 330]]\n",
            "********************\n",
            "Model : KNN\n",
            "[[394  95]\n",
            " [ 92 413]]\n",
            "********************\n",
            "Model : Naive Bayes\n",
            "[[425  64]\n",
            " [282 223]]\n",
            "********************\n",
            "Model : SVC\n",
            "[[412  77]\n",
            " [179 326]]\n",
            "********************\n",
            "Model : XGB Classifier\n",
            "[[461  28]\n",
            " [122 383]]\n",
            "********************\n",
            "Model : Random Forest\n",
            "[[456  33]\n",
            " [ 72 433]]\n",
            "********************\n"
          ]
        }
      ]
    },
    {
      "cell_type": "code",
      "source": [
        "# Plotting ROC Curve for all the models\n",
        "plt.figure(figsize=(15,6))\n",
        "for name, value in curve.items():\n",
        "  sns.lineplot(x = value[0], y = value[1], label = name)\n",
        "plt.xlabel('False Positivity Rate')\n",
        "plt.ylabel('True Positivity Rate')\n",
        "plt.title('ROC CURVE')"
      ],
      "metadata": {
        "colab": {
          "base_uri": "https://localhost:8080/",
          "height": 421
        },
        "id": "mQtFhcM_EtPa",
        "outputId": "fbfe3944-52b8-4459-b970-531087263978"
      },
      "execution_count": null,
      "outputs": [
        {
          "output_type": "execute_result",
          "data": {
            "text/plain": [
              "Text(0.5, 1.0, 'ROC CURVE')"
            ]
          },
          "metadata": {},
          "execution_count": 62
        },
        {
          "output_type": "display_data",
          "data": {
            "text/plain": [
              "<Figure size 1080x432 with 1 Axes>"
            ],
            "image/png": "[encoded data removed]"
          },
          "metadata": {
            "needs_background": "light"
          }
        }
      ]
    },
    {
      "cell_type": "markdown",
      "source": [
        "# **Hyperparameter Tuning**"
      ],
      "metadata": {
        "id": "qjkcMPsmBe8S"
      }
    },
    {
      "cell_type": "code",
      "source": [
        "# Importing libraries for hyperparameter tuning\n",
        "from sklearn.model_selection import GridSearchCV"
      ],
      "metadata": {
        "id": "i1gSS4C-8sFj"
      },
      "execution_count": null,
      "outputs": []
    },
    {
      "cell_type": "code",
      "source": [
        "# Creating a function for hyperparameter tuning\n",
        "def grid_fitting(name, hyperparams, estim):\n",
        "  '''Returns a dataframe with scores of the model post hyperparameter tuning along with best model and confusion matrix for train and test '''\n",
        "  \n",
        "  grid_df = pd.DataFrame(columns = ['Model', 'Train Accuracy', 'Test Accuracy','Train Precision', 'Test Precision',\n",
        "                                     'Train Recall', 'Test Recall', 'Train ROC AUC', 'Test ROC AUC'])\n",
        "\n",
        "  grid = GridSearchCV(estimator= estim, param_grid = hyperparams, cv = 5 , n_jobs = -1,  verbose = 1)\n",
        "\n",
        "  grid.fit(X_train,y_train)\n",
        "\n",
        "  best_model = grid.best_estimator_\n",
        "\n",
        "  train_grid = best_model.predict(X_train)\n",
        "  test_grid = best_model.predict(X_test)\n",
        "\n",
        "  grid_train_accuracy = accuracy_score(y_train, train_grid)\n",
        "  grid_test_accuracy = accuracy_score(y_test, test_grid)\n",
        "  grid_train_precision = precision_score(y_train, train_grid)\n",
        "  grid_test_precision = precision_score(y_test, test_grid)\n",
        "  grid_train_recall = recall_score(y_train, train_grid)\n",
        "  grid_test_recall = recall_score(y_test, test_grid)\n",
        "  grid_train_roc_auc = roc_auc_score(y_train, train_grid)\n",
        "  grid_test_roc_auc = roc_auc_score(y_test, test_grid)\n",
        "\n",
        "  grid_df = grid_df.append({'Model': name,\n",
        "                           'Train Accuracy' : grid_train_accuracy,\n",
        "                           'Test Accuracy': grid_test_accuracy,\n",
        "                           'Train Precision' : grid_train_precision,\n",
        "                           'Test Precision' : grid_test_precision,\n",
        "                           'Train Recall' : grid_train_recall,\n",
        "                           'Test Recall' : grid_test_recall,\n",
        "                           'Train ROC AUC' : grid_train_roc_auc,\n",
        "                           'Test ROC AUC' : grid_test_roc_auc},\n",
        "                           ignore_index = True)\n",
        "  \n",
        "  grid_train_cm = confusion_matrix(y_train, train_grid)\n",
        "  grid_test_cm = confusion_matrix(y_test, test_grid)\n",
        "\n",
        "\n",
        "  return best_model, grid_df, grid_train_cm, grid_test_cm"
      ],
      "metadata": {
        "id": "GyBRPLD88eCU"
      },
      "execution_count": null,
      "outputs": []
    },
    {
      "cell_type": "code",
      "source": [
        "n_estimators= [160,210,10]\n",
        "max_depth = [25,35,1]\n",
        "min_samples_split = [2,5,1]\n",
        "min_samples_leaf = [1,5,1]\n",
        "max_features= [4,10,1]"
      ],
      "metadata": {
        "id": "XhbBjQlL8j3K"
      },
      "execution_count": null,
      "outputs": []
    },
    {
      "cell_type": "code",
      "source": [
        "random_grid = {'n_estimators' : n_estimators,\n",
        "               'max_depth' : max_depth,\n",
        "               'min_samples_split' : min_samples_split,\n",
        "               'min_samples_leaf' : min_samples_leaf,\n",
        "               'max_features' : max_features}\n",
        "\n",
        "print(random_grid)\n"
      ],
      "metadata": {
        "colab": {
          "base_uri": "https://localhost:8080/"
        },
        "id": "il5bHKZk8j8R",
        "outputId": "fb331768-ea20-4404-bba3-24df80eae2db"
      },
      "execution_count": null,
      "outputs": [
        {
          "output_type": "stream",
          "name": "stdout",
          "text": [
            "{'n_estimators': [160, 210, 10], 'max_depth': [25, 35, 1], 'min_samples_split': [2, 5, 1], 'min_samples_leaf': [1, 5, 1], 'max_features': [4, 10, 1]}\n"
          ]
        }
      ]
    },
    {
      "cell_type": "code",
      "source": [
        "# Apply the function to tune the parameters\n",
        "rf_best_model, rf_df, rf_grid_train_cm, rf_grid_test_cm = grid_fitting('Random Forest', random_grid, RandomForestClassifier())"
      ],
      "metadata": {
        "colab": {
          "base_uri": "https://localhost:8080/"
        },
        "id": "r8yDgrho89ZQ",
        "outputId": "23dc4d13-2837-4cb2-e89c-93f0ab15dab4"
      },
      "execution_count": null,
      "outputs": [
        {
          "output_type": "stream",
          "name": "stdout",
          "text": [
            "Fitting 5 folds for each of 243 candidates, totalling 1215 fits\n"
          ]
        }
      ]
    },
    {
      "cell_type": "code",
      "source": [
        "# The best estimators of the model\n",
        "rf_best_model"
      ],
      "metadata": {
        "colab": {
          "base_uri": "https://localhost:8080/"
        },
        "id": "hIXh_4s089hT",
        "outputId": "e1d4c031-392e-474f-80eb-c8c81e027eab"
      },
      "execution_count": null,
      "outputs": [
        {
          "output_type": "execute_result",
          "data": {
            "text/plain": [
              "RandomForestClassifier(max_depth=25, max_features=4, n_estimators=160)"
            ]
          },
          "metadata": {},
          "execution_count": 68
        }
      ]
    },
    {
      "cell_type": "code",
      "source": [
        "# Dataframe showing scores of the model after hyperparameter tuning\n",
        "rf_df"
      ],
      "metadata": {
        "colab": {
          "base_uri": "https://localhost:8080/",
          "height": 81
        },
        "id": "wFYD-zlS8kCQ",
        "outputId": "9c52ee3b-d47c-4dbe-84f8-1fa127004c2c"
      },
      "execution_count": null,
      "outputs": [
        {
          "output_type": "execute_result",
          "data": {
            "text/plain": [
              "           Model  Train Accuracy  Test Accuracy  Train Precision  \\\n",
              "0  Random Forest             1.0       0.908451              1.0   \n",
              "\n",
              "   Test Precision  Train Recall  Test Recall  Train ROC AUC  Test ROC AUC  \n",
              "0        0.940426           1.0     0.875248            1.0      0.908994  "
            ],
            "text/html": [
              "\n",
              "  <div id=\"df-647f971e-8577-4b24-a0e0-55e399e9b048\">\n",
              "    <div class=\"colab-df-container\">\n",
              "      <div>\n",
              "<style scoped>\n",
              "    .dataframe tbody tr th:only-of-type {\n",
              "        vertical-align: middle;\n",
              "    }\n",
              "\n",
              "    .dataframe tbody tr th {\n",
              "        vertical-align: top;\n",
              "    }\n",
              "\n",
              "    .dataframe thead th {\n",
              "        text-align: right;\n",
              "    }\n",
              "</style>\n",
              "<table border=\"1\" class=\"dataframe\">\n",
              "  <thead>\n",
              "    <tr style=\"text-align: right;\">\n",
              "      <th></th>\n",
              "      <th>Model</th>\n",
              "      <th>Train Accuracy</th>\n",
              "      <th>Test Accuracy</th>\n",
              "      <th>Train Precision</th>\n",
              "      <th>Test Precision</th>\n",
              "      <th>Train Recall</th>\n",
              "      <th>Test Recall</th>\n",
              "      <th>Train ROC AUC</th>\n",
              "      <th>Test ROC AUC</th>\n",
              "    </tr>\n",
              "  </thead>\n",
              "  <tbody>\n",
              "    <tr>\n",
              "      <th>0</th>\n",
              "      <td>Random Forest</td>\n",
              "      <td>1.0</td>\n",
              "      <td>0.908451</td>\n",
              "      <td>1.0</td>\n",
              "      <td>0.940426</td>\n",
              "      <td>1.0</td>\n",
              "      <td>0.875248</td>\n",
              "      <td>1.0</td>\n",
              "      <td>0.908994</td>\n",
              "    </tr>\n",
              "  </tbody>\n",
              "</table>\n",
              "</div>\n",
              "      <button class=\"colab-df-convert\" onclick=\"convertToInteractive('df-647f971e-8577-4b24-a0e0-55e399e9b048')\"\n",
              "              title=\"Convert this dataframe to an interactive table.\"\n",
              "              style=\"display:none;\">\n",
              "        \n",
              "  <svg xmlns=\"http://www.w3.org/2000/svg\" height=\"24px\"viewBox=\"0 0 24 24\"\n",
              "       width=\"24px\">\n",
              "    <path d=\"M0 0h24v24H0V0z\" fill=\"none\"/>\n",
              "    <path d=\"M18.56 5.44l.94 2.06.94-2.06 2.06-.94-2.06-.94-.94-2.06-.94 2.06-2.06.94zm-11 1L8.5 8.5l.94-2.06 2.06-.94-2.06-.94L8.5 2.5l-.94 2.06-2.06.94zm10 10l.94 2.06.94-2.06 2.06-.94-2.06-.94-.94-2.06-.94 2.06-2.06.94z\"/><path d=\"M17.41 7.96l-1.37-1.37c-.4-.4-.92-.59-1.43-.59-.52 0-1.04.2-1.43.59L10.3 9.45l-7.72 7.72c-.78.78-.78 2.05 0 2.83L4 21.41c.39.39.9.59 1.41.59.51 0 1.02-.2 1.41-.59l7.78-7.78 2.81-2.81c.8-.78.8-2.07 0-2.86zM5.41 20L4 18.59l7.72-7.72 1.47 1.35L5.41 20z\"/>\n",
              "  </svg>\n",
              "      </button>\n",
              "      \n",
              "  <style>\n",
              "    .colab-df-container {\n",
              "      display:flex;\n",
              "      flex-wrap:wrap;\n",
              "      gap: 12px;\n",
              "    }\n",
              "\n",
              "    .colab-df-convert {\n",
              "      background-color: #E8F0FE;\n",
              "      border: none;\n",
              "      border-radius: 50%;\n",
              "      cursor: pointer;\n",
              "      display: none;\n",
              "      fill: #1967D2;\n",
              "      height: 32px;\n",
              "      padding: 0 0 0 0;\n",
              "      width: 32px;\n",
              "    }\n",
              "\n",
              "    .colab-df-convert:hover {\n",
              "      background-color: #E2EBFA;\n",
              "      box-shadow: 0px 1px 2px rgba(60, 64, 67, 0.3), 0px 1px 3px 1px rgba(60, 64, 67, 0.15);\n",
              "      fill: #174EA6;\n",
              "    }\n",
              "\n",
              "    [theme=dark] .colab-df-convert {\n",
              "      background-color: #3B4455;\n",
              "      fill: #D2E3FC;\n",
              "    }\n",
              "\n",
              "    [theme=dark] .colab-df-convert:hover {\n",
              "      background-color: #434B5C;\n",
              "      box-shadow: 0px 1px 3px 1px rgba(0, 0, 0, 0.15);\n",
              "      filter: drop-shadow(0px 1px 2px rgba(0, 0, 0, 0.3));\n",
              "      fill: #FFFFFF;\n",
              "    }\n",
              "  </style>\n",
              "\n",
              "      <script>\n",
              "        const buttonEl =\n",
              "          document.querySelector('#df-647f971e-8577-4b24-a0e0-55e399e9b048 button.colab-df-convert');\n",
              "        buttonEl.style.display =\n",
              "          google.colab.kernel.accessAllowed ? 'block' : 'none';\n",
              "\n",
              "        async function convertToInteractive(key) {\n",
              "          const element = document.querySelector('#df-647f971e-8577-4b24-a0e0-55e399e9b048');\n",
              "          const dataTable =\n",
              "            await google.colab.kernel.invokeFunction('convertToInteractive',\n",
              "                                                     [key], {});\n",
              "          if (!dataTable) return;\n",
              "\n",
              "          const docLinkHtml = 'Like what you see? Visit the ' +\n",
              "            '<a target=\"_blank\" href=https://colab.research.google.com/notebooks/data_table.ipynb>data table notebook</a>'\n",
              "            + ' to learn more about interactive tables.';\n",
              "          element.innerHTML = '';\n",
              "          dataTable['output_type'] = 'display_data';\n",
              "          await google.colab.output.renderOutput(dataTable, element);\n",
              "          const docLink = document.createElement('div');\n",
              "          docLink.innerHTML = docLinkHtml;\n",
              "          element.appendChild(docLink);\n",
              "        }\n",
              "      </script>\n",
              "    </div>\n",
              "  </div>\n",
              "  "
            ]
          },
          "metadata": {},
          "execution_count": 69
        }
      ]
    },
    {
      "cell_type": "code",
      "source": [
        "# Confusion matrix of training data after hyperparameter tuning\n",
        "rf_grid_train_cm"
      ],
      "metadata": {
        "colab": {
          "base_uri": "https://localhost:8080/"
        },
        "id": "NDvW6yM0E5ks",
        "outputId": "ab6dbbbf-ff3c-4bfb-96f3-a8036c3ee5b8"
      },
      "execution_count": null,
      "outputs": [
        {
          "output_type": "execute_result",
          "data": {
            "text/plain": [
              "array([[1994,    0],\n",
              "       [   0, 1978]])"
            ]
          },
          "metadata": {},
          "execution_count": 70
        }
      ]
    },
    {
      "cell_type": "code",
      "source": [
        "# Confusion matrix of test data after hyperparameter tuning\n",
        "rf_grid_test_cm"
      ],
      "metadata": {
        "colab": {
          "base_uri": "https://localhost:8080/"
        },
        "id": "v03eYdcFE5oJ",
        "outputId": "621d19c2-f49b-4513-cf8a-842637393dfc"
      },
      "execution_count": null,
      "outputs": [
        {
          "output_type": "execute_result",
          "data": {
            "text/plain": [
              "array([[461,  28],\n",
              "       [ 63, 442]])"
            ]
          },
          "metadata": {},
          "execution_count": 71
        }
      ]
    },
    {
      "cell_type": "code",
      "source": [
        "!pip install shap"
      ],
      "metadata": {
        "colab": {
          "base_uri": "https://localhost:8080/"
        },
        "id": "XM9embmcE8lz",
        "outputId": "dcce4d36-6aab-448a-9091-2ff530fc1e30"
      },
      "execution_count": null,
      "outputs": [
        {
          "output_type": "stream",
          "name": "stdout",
          "text": [
            "Requirement already satisfied: shap in /usr/local/lib/python3.7/dist-packages (0.40.0)\n",
            "Requirement already satisfied: numpy in /usr/local/lib/python3.7/dist-packages (from shap) (1.21.5)\n",
            "Requirement already satisfied: numba in /usr/local/lib/python3.7/dist-packages (from shap) (0.51.2)\n",
            "Requirement already satisfied: scikit-learn in /usr/local/lib/python3.7/dist-packages (from shap) (1.0.2)\n",
            "Requirement already satisfied: tqdm>4.25.0 in /usr/local/lib/python3.7/dist-packages (from shap) (4.63.0)\n",
            "Requirement already satisfied: pandas in /usr/local/lib/python3.7/dist-packages (from shap) (1.3.5)\n",
            "Requirement already satisfied: packaging>20.9 in /usr/local/lib/python3.7/dist-packages (from shap) (21.3)\n",
            "Requirement already satisfied: cloudpickle in /usr/local/lib/python3.7/dist-packages (from shap) (1.3.0)\n",
            "Requirement already satisfied: slicer==0.0.7 in /usr/local/lib/python3.7/dist-packages (from shap) (0.0.7)\n",
            "Requirement already satisfied: scipy in /usr/local/lib/python3.7/dist-packages (from shap) (1.4.1)\n",
            "Requirement already satisfied: pyparsing!=3.0.5,>=2.0.2 in /usr/local/lib/python3.7/dist-packages (from packaging>20.9->shap) (3.0.7)\n",
            "Requirement already satisfied: llvmlite<0.35,>=0.34.0.dev0 in /usr/local/lib/python3.7/dist-packages (from numba->shap) (0.34.0)\n",
            "Requirement already satisfied: setuptools in /usr/local/lib/python3.7/dist-packages (from numba->shap) (57.4.0)\n",
            "Requirement already satisfied: python-dateutil>=2.7.3 in /usr/local/lib/python3.7/dist-packages (from pandas->shap) (2.8.2)\n",
            "Requirement already satisfied: pytz>=2017.3 in /usr/local/lib/python3.7/dist-packages (from pandas->shap) (2018.9)\n",
            "Requirement already satisfied: six>=1.5 in /usr/local/lib/python3.7/dist-packages (from python-dateutil>=2.7.3->pandas->shap) (1.15.0)\n",
            "Requirement already satisfied: threadpoolctl>=2.0.0 in /usr/local/lib/python3.7/dist-packages (from scikit-learn->shap) (3.1.0)\n",
            "Requirement already satisfied: joblib>=0.11 in /usr/local/lib/python3.7/dist-packages (from scikit-learn->shap) (1.1.0)\n"
          ]
        }
      ]
    },
    {
      "cell_type": "code",
      "source": [
        "# Importing SHAP\n",
        "import shap"
      ],
      "metadata": {
        "id": "tmarBjpQE8qG"
      },
      "execution_count": null,
      "outputs": []
    },
    {
      "cell_type": "code",
      "source": [
        "# Creating instances of shap\n",
        "explainer = shap.TreeExplainer(rf_best_model)\n",
        "shap_values = explainer.shap_values(X_test)"
      ],
      "metadata": {
        "id": "mF_-IyzPE8ty"
      },
      "execution_count": null,
      "outputs": []
    },
    {
      "cell_type": "code",
      "source": [
        "# As X_test is an array without column names we will build a dataframe\n",
        "shap_df = pd.DataFrame(X_test, columns = ['age', 'education', 'cigsPerDay', 'BPMeds', 'prevalentStroke',\n",
        "       'prevalentHyp', 'diabetes', 'totChol', 'BMI', 'heartRate', 'glucose',\n",
        "       'pulsePressure', 'sex_F', 'sex_M'])"
      ],
      "metadata": {
        "id": "kYzDEcdtE8yL"
      },
      "execution_count": null,
      "outputs": []
    },
    {
      "cell_type": "code",
      "source": [
        "# SHAP Summary Plot\n",
        "shap.summary_plot(shap_values, shap_df, plot_type = 'bar')"
      ],
      "metadata": {
        "colab": {
          "base_uri": "https://localhost:8080/",
          "height": 451
        },
        "id": "fBUFiBcSE82N",
        "outputId": "4096e861-6b08-43fc-decd-4fd03e7940d2"
      },
      "execution_count": null,
      "outputs": [
        {
          "output_type": "display_data",
          "data": {
            "text/plain": [
              "<Figure size 576x511.2 with 1 Axes>"
            ],
            "image/png": "[encoded data removed]"
          },
          "metadata": {
            "needs_background": "light"
          }
        }
      ]
    },
    {
      "cell_type": "markdown",
      "source": [
        "## **Conclusion :**"
      ],
      "metadata": {
        "id": "lUKU90iM-E0I"
      }
    },
    {
      "cell_type": "markdown",
      "source": [
        "Models accuracy of predicting the patient's risk of developing Coronary Heart Disease **(CHD)** in the next **10 years.**"
      ],
      "metadata": {
        "id": "CGGmRkq0-ctw"
      }
    },
    {
      "cell_type": "markdown",
      "source": [
        "As conclusion to the project, I would like to summarize the process and some details of the project.\n",
        "\n",
        "The data was cleaned, an EDA was performed, transformation of data was done in order to ensure it fits well into machine learning models, modelling along with evaluation of the models was done and finally hyperparameter tuning was done in an attempt to imporve the model.\n",
        "\n",
        "6 models were used in the project, namely, Decision Tree, Logistic Regression, Random Forest, XGB Classifier, KNN and SVM. Random Forest was best performing base model. Hyperparameter tuning was done on the same model.\n",
        "\n",
        "The final results of the model are almost close to the base model and we have acheived almost 90% test accuracy and test precision, where as we have acheived almost 88% test recall.\n",
        "\n",
        "Using SHAP we identified the feature importances and identified that, gender, age and education were 3 main influencers.\n",
        "\n",
        "Other methods or models could be used to further improve the model. With the help of a medical expert we could engineer more features which would in turn help improve the model further."
      ],
      "metadata": {
        "id": "Ks_vPPns4PIX"
      }
    }
  ]
}